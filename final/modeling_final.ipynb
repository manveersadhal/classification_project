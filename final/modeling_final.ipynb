{
 "cells": [
  {
   "cell_type": "code",
   "execution_count": 76,
   "id": "0b12f95b-23a3-4b58-bf06-929d57c40467",
   "metadata": {},
   "outputs": [],
   "source": [
    "import pandas as pd\n",
    "import numpy as np\n",
    "import matplotlib.pyplot as plt\n",
    "import seaborn as sns\n",
    "from sklearn.model_selection import train_test_split, GridSearchCV, RandomizedSearchCV\n",
    "from sklearn.metrics import accuracy_score, precision_score, recall_score, precision_recall_curve, f1_score, fbeta_score, confusion_matrix, roc_auc_score, roc_curve, make_scorer, classification_report\n",
    "from sklearn.ensemble import RandomForestClassifier\n",
    "from sklearn.neighbors import KNeighborsClassifier\n",
    "from sklearn.linear_model import LogisticRegression\n",
    "from sklearn.preprocessing import StandardScaler\n",
    "import xgboost as xgb\n",
    "import pickle as pkl"
   ]
  },
  {
   "cell_type": "code",
   "execution_count": 77,
   "id": "7cb70f53-2161-4258-8ccc-31ff8631c8bb",
   "metadata": {},
   "outputs": [],
   "source": [
    "import warnings\n",
    "warnings.filterwarnings(\"ignore\")"
   ]
  },
  {
   "cell_type": "code",
   "execution_count": 78,
   "id": "8535251f-a172-4930-af96-d64c9da6baf6",
   "metadata": {},
   "outputs": [],
   "source": [
    "loans_df = pd.read_csv('loans_clean.csv')"
   ]
  },
  {
   "cell_type": "code",
   "execution_count": 79,
   "id": "08a58af1-248c-4944-92b7-cdb1eda4e866",
   "metadata": {},
   "outputs": [
    {
     "data": {
      "text/plain": [
       "count    256366.000000\n",
       "mean         16.543057\n",
       "std           7.791353\n",
       "min           0.000000\n",
       "25%          10.750000\n",
       "50%          16.210000\n",
       "75%          22.000000\n",
       "max          57.140000\n",
       "Name: dti, dtype: float64"
      ]
     },
     "execution_count": 79,
     "metadata": {},
     "output_type": "execute_result"
    }
   ],
   "source": [
    "loans_df['dti'].describe()"
   ]
  },
  {
   "cell_type": "code",
   "execution_count": 80,
   "id": "1f752178-1dfe-46f3-89db-9f68eeee5e50",
   "metadata": {},
   "outputs": [
    {
     "data": {
      "text/html": [
       "<div>\n",
       "<style scoped>\n",
       "    .dataframe tbody tr th:only-of-type {\n",
       "        vertical-align: middle;\n",
       "    }\n",
       "\n",
       "    .dataframe tbody tr th {\n",
       "        vertical-align: top;\n",
       "    }\n",
       "\n",
       "    .dataframe thead th {\n",
       "        text-align: right;\n",
       "    }\n",
       "</style>\n",
       "<table border=\"1\" class=\"dataframe\">\n",
       "  <thead>\n",
       "    <tr style=\"text-align: right;\">\n",
       "      <th></th>\n",
       "      <th>Unnamed: 0</th>\n",
       "      <th>annual_inc</th>\n",
       "      <th>collections_12_mths_ex_med</th>\n",
       "      <th>delinq_2yrs</th>\n",
       "      <th>dti</th>\n",
       "      <th>inq_last_6mths</th>\n",
       "      <th>installment</th>\n",
       "      <th>int_rate</th>\n",
       "      <th>loan_status</th>\n",
       "      <th>open_acc</th>\n",
       "      <th>...</th>\n",
       "      <th>tot_coll_amt</th>\n",
       "      <th>tot_cur_bal</th>\n",
       "      <th>home_ownership</th>\n",
       "      <th>term_ 60 months</th>\n",
       "      <th>grade_B</th>\n",
       "      <th>grade_C</th>\n",
       "      <th>grade_D</th>\n",
       "      <th>grade_E</th>\n",
       "      <th>grade_F</th>\n",
       "      <th>grade_G</th>\n",
       "    </tr>\n",
       "  </thead>\n",
       "  <tbody>\n",
       "    <tr>\n",
       "      <th>0</th>\n",
       "      <td>0</td>\n",
       "      <td>24000.0</td>\n",
       "      <td>0.0</td>\n",
       "      <td>0.0</td>\n",
       "      <td>27.65</td>\n",
       "      <td>1.0</td>\n",
       "      <td>162.87</td>\n",
       "      <td>10.65</td>\n",
       "      <td>0.0</td>\n",
       "      <td>3.0</td>\n",
       "      <td>...</td>\n",
       "      <td>NaN</td>\n",
       "      <td>NaN</td>\n",
       "      <td>0.0</td>\n",
       "      <td>0</td>\n",
       "      <td>1</td>\n",
       "      <td>0</td>\n",
       "      <td>0</td>\n",
       "      <td>0</td>\n",
       "      <td>0</td>\n",
       "      <td>0</td>\n",
       "    </tr>\n",
       "    <tr>\n",
       "      <th>1</th>\n",
       "      <td>1</td>\n",
       "      <td>30000.0</td>\n",
       "      <td>0.0</td>\n",
       "      <td>0.0</td>\n",
       "      <td>1.00</td>\n",
       "      <td>5.0</td>\n",
       "      <td>59.83</td>\n",
       "      <td>15.27</td>\n",
       "      <td>1.0</td>\n",
       "      <td>3.0</td>\n",
       "      <td>...</td>\n",
       "      <td>NaN</td>\n",
       "      <td>NaN</td>\n",
       "      <td>0.0</td>\n",
       "      <td>1</td>\n",
       "      <td>0</td>\n",
       "      <td>1</td>\n",
       "      <td>0</td>\n",
       "      <td>0</td>\n",
       "      <td>0</td>\n",
       "      <td>0</td>\n",
       "    </tr>\n",
       "    <tr>\n",
       "      <th>2</th>\n",
       "      <td>2</td>\n",
       "      <td>12252.0</td>\n",
       "      <td>0.0</td>\n",
       "      <td>0.0</td>\n",
       "      <td>8.72</td>\n",
       "      <td>2.0</td>\n",
       "      <td>84.33</td>\n",
       "      <td>15.96</td>\n",
       "      <td>0.0</td>\n",
       "      <td>2.0</td>\n",
       "      <td>...</td>\n",
       "      <td>NaN</td>\n",
       "      <td>NaN</td>\n",
       "      <td>0.0</td>\n",
       "      <td>0</td>\n",
       "      <td>0</td>\n",
       "      <td>1</td>\n",
       "      <td>0</td>\n",
       "      <td>0</td>\n",
       "      <td>0</td>\n",
       "      <td>0</td>\n",
       "    </tr>\n",
       "    <tr>\n",
       "      <th>3</th>\n",
       "      <td>3</td>\n",
       "      <td>49200.0</td>\n",
       "      <td>0.0</td>\n",
       "      <td>0.0</td>\n",
       "      <td>20.00</td>\n",
       "      <td>1.0</td>\n",
       "      <td>339.31</td>\n",
       "      <td>13.49</td>\n",
       "      <td>0.0</td>\n",
       "      <td>10.0</td>\n",
       "      <td>...</td>\n",
       "      <td>NaN</td>\n",
       "      <td>NaN</td>\n",
       "      <td>0.0</td>\n",
       "      <td>0</td>\n",
       "      <td>0</td>\n",
       "      <td>1</td>\n",
       "      <td>0</td>\n",
       "      <td>0</td>\n",
       "      <td>0</td>\n",
       "      <td>0</td>\n",
       "    </tr>\n",
       "    <tr>\n",
       "      <th>4</th>\n",
       "      <td>5</td>\n",
       "      <td>36000.0</td>\n",
       "      <td>0.0</td>\n",
       "      <td>0.0</td>\n",
       "      <td>11.20</td>\n",
       "      <td>3.0</td>\n",
       "      <td>156.46</td>\n",
       "      <td>7.90</td>\n",
       "      <td>0.0</td>\n",
       "      <td>9.0</td>\n",
       "      <td>...</td>\n",
       "      <td>NaN</td>\n",
       "      <td>NaN</td>\n",
       "      <td>0.0</td>\n",
       "      <td>0</td>\n",
       "      <td>0</td>\n",
       "      <td>0</td>\n",
       "      <td>0</td>\n",
       "      <td>0</td>\n",
       "      <td>0</td>\n",
       "      <td>0</td>\n",
       "    </tr>\n",
       "  </tbody>\n",
       "</table>\n",
       "<p>5 rows × 24 columns</p>\n",
       "</div>"
      ],
      "text/plain": [
       "   Unnamed: 0  annual_inc  collections_12_mths_ex_med  delinq_2yrs    dti  \\\n",
       "0           0     24000.0                         0.0          0.0  27.65   \n",
       "1           1     30000.0                         0.0          0.0   1.00   \n",
       "2           2     12252.0                         0.0          0.0   8.72   \n",
       "3           3     49200.0                         0.0          0.0  20.00   \n",
       "4           5     36000.0                         0.0          0.0  11.20   \n",
       "\n",
       "   inq_last_6mths  installment  int_rate  loan_status  open_acc  ...  \\\n",
       "0             1.0       162.87     10.65          0.0       3.0  ...   \n",
       "1             5.0        59.83     15.27          1.0       3.0  ...   \n",
       "2             2.0        84.33     15.96          0.0       2.0  ...   \n",
       "3             1.0       339.31     13.49          0.0      10.0  ...   \n",
       "4             3.0       156.46      7.90          0.0       9.0  ...   \n",
       "\n",
       "   tot_coll_amt  tot_cur_bal  home_ownership  term_ 60 months  grade_B  \\\n",
       "0           NaN          NaN             0.0                0        1   \n",
       "1           NaN          NaN             0.0                1        0   \n",
       "2           NaN          NaN             0.0                0        0   \n",
       "3           NaN          NaN             0.0                0        0   \n",
       "4           NaN          NaN             0.0                0        0   \n",
       "\n",
       "   grade_C  grade_D  grade_E  grade_F  grade_G  \n",
       "0        0        0        0        0        0  \n",
       "1        1        0        0        0        0  \n",
       "2        1        0        0        0        0  \n",
       "3        1        0        0        0        0  \n",
       "4        0        0        0        0        0  \n",
       "\n",
       "[5 rows x 24 columns]"
      ]
     },
     "execution_count": 80,
     "metadata": {},
     "output_type": "execute_result"
    }
   ],
   "source": [
    "loans_df.head()"
   ]
  },
  {
   "cell_type": "code",
   "execution_count": 81,
   "id": "7e6b9187-80c0-4158-ae26-f621158b34fa",
   "metadata": {},
   "outputs": [],
   "source": [
    "loans_df = loans_df.drop(columns=['Unnamed: 0'])"
   ]
  },
  {
   "cell_type": "code",
   "execution_count": 82,
   "id": "592552f9-1756-4f56-a1f6-80070f0a9e3e",
   "metadata": {},
   "outputs": [
    {
     "data": {
      "text/html": [
       "<div>\n",
       "<style scoped>\n",
       "    .dataframe tbody tr th:only-of-type {\n",
       "        vertical-align: middle;\n",
       "    }\n",
       "\n",
       "    .dataframe tbody tr th {\n",
       "        vertical-align: top;\n",
       "    }\n",
       "\n",
       "    .dataframe thead th {\n",
       "        text-align: right;\n",
       "    }\n",
       "</style>\n",
       "<table border=\"1\" class=\"dataframe\">\n",
       "  <thead>\n",
       "    <tr style=\"text-align: right;\">\n",
       "      <th></th>\n",
       "      <th>annual_inc</th>\n",
       "      <th>collections_12_mths_ex_med</th>\n",
       "      <th>delinq_2yrs</th>\n",
       "      <th>dti</th>\n",
       "      <th>inq_last_6mths</th>\n",
       "      <th>installment</th>\n",
       "      <th>int_rate</th>\n",
       "      <th>loan_status</th>\n",
       "      <th>open_acc</th>\n",
       "      <th>pub_rec</th>\n",
       "      <th>...</th>\n",
       "      <th>tot_coll_amt</th>\n",
       "      <th>tot_cur_bal</th>\n",
       "      <th>home_ownership</th>\n",
       "      <th>term_ 60 months</th>\n",
       "      <th>grade_B</th>\n",
       "      <th>grade_C</th>\n",
       "      <th>grade_D</th>\n",
       "      <th>grade_E</th>\n",
       "      <th>grade_F</th>\n",
       "      <th>grade_G</th>\n",
       "    </tr>\n",
       "  </thead>\n",
       "  <tbody>\n",
       "    <tr>\n",
       "      <th>0</th>\n",
       "      <td>24000.0</td>\n",
       "      <td>0.0</td>\n",
       "      <td>0.0</td>\n",
       "      <td>27.65</td>\n",
       "      <td>1.0</td>\n",
       "      <td>162.87</td>\n",
       "      <td>10.65</td>\n",
       "      <td>0.0</td>\n",
       "      <td>3.0</td>\n",
       "      <td>0.0</td>\n",
       "      <td>...</td>\n",
       "      <td>NaN</td>\n",
       "      <td>NaN</td>\n",
       "      <td>0.0</td>\n",
       "      <td>0</td>\n",
       "      <td>1</td>\n",
       "      <td>0</td>\n",
       "      <td>0</td>\n",
       "      <td>0</td>\n",
       "      <td>0</td>\n",
       "      <td>0</td>\n",
       "    </tr>\n",
       "    <tr>\n",
       "      <th>1</th>\n",
       "      <td>30000.0</td>\n",
       "      <td>0.0</td>\n",
       "      <td>0.0</td>\n",
       "      <td>1.00</td>\n",
       "      <td>5.0</td>\n",
       "      <td>59.83</td>\n",
       "      <td>15.27</td>\n",
       "      <td>1.0</td>\n",
       "      <td>3.0</td>\n",
       "      <td>0.0</td>\n",
       "      <td>...</td>\n",
       "      <td>NaN</td>\n",
       "      <td>NaN</td>\n",
       "      <td>0.0</td>\n",
       "      <td>1</td>\n",
       "      <td>0</td>\n",
       "      <td>1</td>\n",
       "      <td>0</td>\n",
       "      <td>0</td>\n",
       "      <td>0</td>\n",
       "      <td>0</td>\n",
       "    </tr>\n",
       "    <tr>\n",
       "      <th>2</th>\n",
       "      <td>12252.0</td>\n",
       "      <td>0.0</td>\n",
       "      <td>0.0</td>\n",
       "      <td>8.72</td>\n",
       "      <td>2.0</td>\n",
       "      <td>84.33</td>\n",
       "      <td>15.96</td>\n",
       "      <td>0.0</td>\n",
       "      <td>2.0</td>\n",
       "      <td>0.0</td>\n",
       "      <td>...</td>\n",
       "      <td>NaN</td>\n",
       "      <td>NaN</td>\n",
       "      <td>0.0</td>\n",
       "      <td>0</td>\n",
       "      <td>0</td>\n",
       "      <td>1</td>\n",
       "      <td>0</td>\n",
       "      <td>0</td>\n",
       "      <td>0</td>\n",
       "      <td>0</td>\n",
       "    </tr>\n",
       "    <tr>\n",
       "      <th>3</th>\n",
       "      <td>49200.0</td>\n",
       "      <td>0.0</td>\n",
       "      <td>0.0</td>\n",
       "      <td>20.00</td>\n",
       "      <td>1.0</td>\n",
       "      <td>339.31</td>\n",
       "      <td>13.49</td>\n",
       "      <td>0.0</td>\n",
       "      <td>10.0</td>\n",
       "      <td>0.0</td>\n",
       "      <td>...</td>\n",
       "      <td>NaN</td>\n",
       "      <td>NaN</td>\n",
       "      <td>0.0</td>\n",
       "      <td>0</td>\n",
       "      <td>0</td>\n",
       "      <td>1</td>\n",
       "      <td>0</td>\n",
       "      <td>0</td>\n",
       "      <td>0</td>\n",
       "      <td>0</td>\n",
       "    </tr>\n",
       "    <tr>\n",
       "      <th>4</th>\n",
       "      <td>36000.0</td>\n",
       "      <td>0.0</td>\n",
       "      <td>0.0</td>\n",
       "      <td>11.20</td>\n",
       "      <td>3.0</td>\n",
       "      <td>156.46</td>\n",
       "      <td>7.90</td>\n",
       "      <td>0.0</td>\n",
       "      <td>9.0</td>\n",
       "      <td>0.0</td>\n",
       "      <td>...</td>\n",
       "      <td>NaN</td>\n",
       "      <td>NaN</td>\n",
       "      <td>0.0</td>\n",
       "      <td>0</td>\n",
       "      <td>0</td>\n",
       "      <td>0</td>\n",
       "      <td>0</td>\n",
       "      <td>0</td>\n",
       "      <td>0</td>\n",
       "      <td>0</td>\n",
       "    </tr>\n",
       "  </tbody>\n",
       "</table>\n",
       "<p>5 rows × 23 columns</p>\n",
       "</div>"
      ],
      "text/plain": [
       "   annual_inc  collections_12_mths_ex_med  delinq_2yrs    dti  inq_last_6mths  \\\n",
       "0     24000.0                         0.0          0.0  27.65             1.0   \n",
       "1     30000.0                         0.0          0.0   1.00             5.0   \n",
       "2     12252.0                         0.0          0.0   8.72             2.0   \n",
       "3     49200.0                         0.0          0.0  20.00             1.0   \n",
       "4     36000.0                         0.0          0.0  11.20             3.0   \n",
       "\n",
       "   installment  int_rate  loan_status  open_acc  pub_rec  ...  tot_coll_amt  \\\n",
       "0       162.87     10.65          0.0       3.0      0.0  ...           NaN   \n",
       "1        59.83     15.27          1.0       3.0      0.0  ...           NaN   \n",
       "2        84.33     15.96          0.0       2.0      0.0  ...           NaN   \n",
       "3       339.31     13.49          0.0      10.0      0.0  ...           NaN   \n",
       "4       156.46      7.90          0.0       9.0      0.0  ...           NaN   \n",
       "\n",
       "   tot_cur_bal  home_ownership  term_ 60 months  grade_B  grade_C  grade_D  \\\n",
       "0          NaN             0.0                0        1        0        0   \n",
       "1          NaN             0.0                1        0        1        0   \n",
       "2          NaN             0.0                0        0        1        0   \n",
       "3          NaN             0.0                0        0        1        0   \n",
       "4          NaN             0.0                0        0        0        0   \n",
       "\n",
       "   grade_E  grade_F  grade_G  \n",
       "0        0        0        0  \n",
       "1        0        0        0  \n",
       "2        0        0        0  \n",
       "3        0        0        0  \n",
       "4        0        0        0  \n",
       "\n",
       "[5 rows x 23 columns]"
      ]
     },
     "execution_count": 82,
     "metadata": {},
     "output_type": "execute_result"
    }
   ],
   "source": [
    "loans_df.head()"
   ]
  },
  {
   "cell_type": "code",
   "execution_count": 83,
   "id": "75179750-2c4f-4f19-8906-e0600095ec99",
   "metadata": {},
   "outputs": [
    {
     "name": "stdout",
     "output_type": "stream",
     "text": [
      "<class 'pandas.core.frame.DataFrame'>\n",
      "RangeIndex: 256366 entries, 0 to 256365\n",
      "Data columns (total 23 columns):\n",
      " #   Column                      Non-Null Count   Dtype  \n",
      "---  ------                      --------------   -----  \n",
      " 0   annual_inc                  256366 non-null  float64\n",
      " 1   collections_12_mths_ex_med  256366 non-null  float64\n",
      " 2   delinq_2yrs                 256366 non-null  float64\n",
      " 3   dti                         256366 non-null  float64\n",
      " 4   inq_last_6mths              256366 non-null  float64\n",
      " 5   installment                 256366 non-null  float64\n",
      " 6   int_rate                    256366 non-null  float64\n",
      " 7   loan_status                 256366 non-null  float64\n",
      " 8   open_acc                    256366 non-null  float64\n",
      " 9   pub_rec                     256366 non-null  float64\n",
      " 10  revol_util                  256366 non-null  float64\n",
      " 11  total_acc                   256366 non-null  float64\n",
      " 12  acc_now_delinq              256366 non-null  float64\n",
      " 13  tot_coll_amt                190260 non-null  float64\n",
      " 14  tot_cur_bal                 190260 non-null  float64\n",
      " 15  home_ownership              256366 non-null  float64\n",
      " 16  term_ 60 months             256366 non-null  int64  \n",
      " 17  grade_B                     256366 non-null  int64  \n",
      " 18  grade_C                     256366 non-null  int64  \n",
      " 19  grade_D                     256366 non-null  int64  \n",
      " 20  grade_E                     256366 non-null  int64  \n",
      " 21  grade_F                     256366 non-null  int64  \n",
      " 22  grade_G                     256366 non-null  int64  \n",
      "dtypes: float64(16), int64(7)\n",
      "memory usage: 45.0 MB\n"
     ]
    }
   ],
   "source": [
    "loans_df.info()"
   ]
  },
  {
   "cell_type": "code",
   "execution_count": null,
   "id": "b28ae605-f30a-4a9c-9cdd-86a6e762b976",
   "metadata": {},
   "outputs": [],
   "source": []
  },
  {
   "cell_type": "code",
   "execution_count": 84,
   "id": "03f1610a-dafb-46a7-9391-546c828d0d3c",
   "metadata": {},
   "outputs": [],
   "source": [
    "X = loans_df[['annual_inc', 'collections_12_mths_ex_med', 'delinq_2yrs', 'dti', 'inq_last_6mths', 'int_rate', 'open_acc',\\\n",
    "               'pub_rec', 'revol_util', 'total_acc', 'acc_now_delinq', 'term_ 60 months', 'grade_B', 'grade_C', 'grade_D', 'grade_E', 'grade_F',\\\n",
    "               'grade_G', 'installment']]\n",
    "y = loans_df['loan_status']"
   ]
  },
  {
   "cell_type": "code",
   "execution_count": 85,
   "id": "94bca9b9-3d48-4e57-a629-ebfdca1dee98",
   "metadata": {},
   "outputs": [],
   "source": [
    "X_train, X_test, y_train, y_test = train_test_split(X, y, test_size=0.2, random_state=137, stratify=y)"
   ]
  },
  {
   "cell_type": "code",
   "execution_count": 86,
   "id": "e0d6bd3d-a6cc-4c1e-8b83-a9246f159eb0",
   "metadata": {},
   "outputs": [],
   "source": [
    "X_train, X_val, y_train, y_val = train_test_split(X_train, y_train, test_size=0.2, random_state=137)"
   ]
  },
  {
   "cell_type": "code",
   "execution_count": 87,
   "id": "6955f85f-e683-431f-968b-7475295c5b9a",
   "metadata": {},
   "outputs": [],
   "source": [
    "std_scale = StandardScaler()\n",
    "X_train_scaled = std_scale.fit_transform(X_train)\n",
    "X_val_scaled = std_scale.fit_transform(X_val)\n",
    "X_test_scaled = std_scale.fit_transform(X_test)"
   ]
  },
  {
   "cell_type": "code",
   "execution_count": null,
   "id": "ad52abfd-bf5a-4940-92f1-d37b995a6e31",
   "metadata": {},
   "outputs": [],
   "source": []
  },
  {
   "cell_type": "code",
   "execution_count": 88,
   "id": "bbfa8bcd-0f6c-4e7f-b1fd-25ee1f0088a6",
   "metadata": {},
   "outputs": [],
   "source": [
    "random_forest = RandomForestClassifier(n_estimators=100, class_weight='balanced')"
   ]
  },
  {
   "cell_type": "code",
   "execution_count": 89,
   "id": "6527e8ce-4817-4741-b58d-2396d878388e",
   "metadata": {},
   "outputs": [
    {
     "data": {
      "text/plain": [
       "RandomForestClassifier(class_weight='balanced')"
      ]
     },
     "execution_count": 89,
     "metadata": {},
     "output_type": "execute_result"
    }
   ],
   "source": [
    "random_forest.fit(X_train, y_train)"
   ]
  },
  {
   "cell_type": "code",
   "execution_count": 90,
   "id": "bef0e8c0-33cf-4e78-b22b-ed5c8077d992",
   "metadata": {},
   "outputs": [
    {
     "data": {
      "text/plain": [
       "0.06662492172824044"
      ]
     },
     "execution_count": 90,
     "metadata": {},
     "output_type": "execute_result"
    }
   ],
   "source": [
    "f1_score(y_val, random_forest.predict(X_val))"
   ]
  },
  {
   "cell_type": "code",
   "execution_count": 91,
   "id": "4a4a2871-9b2b-4600-bced-7ede7a5208d8",
   "metadata": {},
   "outputs": [
    {
     "data": {
      "text/plain": [
       "0.44932432432432434"
      ]
     },
     "execution_count": 91,
     "metadata": {},
     "output_type": "execute_result"
    }
   ],
   "source": [
    "precision_score(y_val, random_forest.predict(X_val))"
   ]
  },
  {
   "cell_type": "code",
   "execution_count": 92,
   "id": "19aef3fb-a911-43e3-a3b5-938e8e331640",
   "metadata": {},
   "outputs": [
    {
     "data": {
      "text/plain": [
       "0.03597998106316786"
      ]
     },
     "execution_count": 92,
     "metadata": {},
     "output_type": "execute_result"
    }
   ],
   "source": [
    "recall_score(y_val, random_forest.predict(X_val))"
   ]
  },
  {
   "cell_type": "code",
   "execution_count": 93,
   "id": "a4b8342f-d6e5-473f-bb6b-6717a91649a5",
   "metadata": {},
   "outputs": [
    {
     "data": {
      "text/plain": [
       "0.7492698120742487"
      ]
     },
     "execution_count": 93,
     "metadata": {},
     "output_type": "execute_result"
    }
   ],
   "source": [
    "f1_score(y_val, random_forest.predict(X_val), average='weighted')"
   ]
  },
  {
   "cell_type": "code",
   "execution_count": 94,
   "id": "7d367d70-f905-43f1-ae49-0d9dd69c91f0",
   "metadata": {},
   "outputs": [
    {
     "data": {
      "text/plain": [
       "0.7562306226076636"
      ]
     },
     "execution_count": 94,
     "metadata": {},
     "output_type": "execute_result"
    }
   ],
   "source": [
    "precision_score(y_val, random_forest.predict(X_val), average='weighted')"
   ]
  },
  {
   "cell_type": "code",
   "execution_count": 95,
   "id": "162b8050-256e-49a6-a6d7-8ed2e1d83c22",
   "metadata": {},
   "outputs": [
    {
     "data": {
      "text/plain": [
       "0.8183037129135279"
      ]
     },
     "execution_count": 95,
     "metadata": {},
     "output_type": "execute_result"
    }
   ],
   "source": [
    "recall_score(y_val, random_forest.predict(X_val), average='weighted')"
   ]
  },
  {
   "cell_type": "code",
   "execution_count": 96,
   "id": "12b3ad4a-424a-4ee9-a80b-24de805d4622",
   "metadata": {},
   "outputs": [
    {
     "data": {
      "image/png": "[encoded data removed]",
      "text/plain": [
       "<Figure size 480x320 with 1 Axes>"
      ]
     },
     "metadata": {
      "needs_background": "light"
     },
     "output_type": "display_data"
    }
   ],
   "source": [
    "precision_curve, recall_curve, threshold_curve = precision_recall_curve(y_val, random_forest.predict_proba(X_val)[:,1])\n",
    "\n",
    "plt.figure(dpi=80)\n",
    "plt.plot(threshold_curve, precision_curve[1:],label='precision')\n",
    "plt.plot(threshold_curve, recall_curve[1:], label='recall')\n",
    "plt.legend(loc='lower left')\n",
    "plt.xlabel('Threshold (above this probability, label as loan default)');\n",
    "plt.title('Precision and Recall Curves - Random Forest');"
   ]
  },
  {
   "cell_type": "code",
   "execution_count": 22,
   "id": "c1daf163-f1b2-4a8c-ae27-8eafca85df2c",
   "metadata": {},
   "outputs": [],
   "source": [
    "param_grid = {'max_depth' : [5, 10, 20, 50],\n",
    "              'n_estimators' : [50, 100, 200, 1000],\n",
    "              'class_weight' : ['balanced', 'balanced_subsample']\n",
    "             }\n"
   ]
  },
  {
   "cell_type": "code",
   "execution_count": null,
   "id": "c57fe36e-eab0-4f06-9ca2-1ca5b2ac7af3",
   "metadata": {},
   "outputs": [],
   "source": [
    "grid = GridSearchCV(random_forest, param_grid, cv=10, scoring='precision')"
   ]
  },
  {
   "cell_type": "code",
   "execution_count": null,
   "id": "38c1725e-7f10-486c-b748-4db4c1f73291",
   "metadata": {},
   "outputs": [],
   "source": [
    "grid.fit(X_train, y_train)"
   ]
  },
  {
   "cell_type": "code",
   "execution_count": null,
   "id": "558e3523-7d2b-4dd6-8fd5-0828e6fccb7d",
   "metadata": {},
   "outputs": [],
   "source": [
    "print(\"Best params: \", grid.best_params_)\n",
    "print(\"Best estimator: \", grid.best_estimator_)\n",
    "print(\"Best score: \", grid.best_score_)"
   ]
  },
  {
   "cell_type": "code",
   "execution_count": 25,
   "id": "09b12b9f-66fb-44b0-afa2-f7c5af0dcb23",
   "metadata": {},
   "outputs": [],
   "source": [
    "param_dist = {'max_depth' : [5, 10, 20, 50],\n",
    "              'n_estimators' : [50, 100, 200, 1000],\n",
    "              'class_weight' : ['balanced', 'balanced_subsample']\n",
    "             }\n",
    "\n"
   ]
  },
  {
   "cell_type": "code",
   "execution_count": null,
   "id": "7920b101-ba44-48b6-af23-866aac15956b",
   "metadata": {},
   "outputs": [],
   "source": []
  },
  {
   "cell_type": "code",
   "execution_count": null,
   "id": "4e55a668-1c67-4590-8f5d-a768e164fc20",
   "metadata": {},
   "outputs": [],
   "source": []
  },
  {
   "cell_type": "code",
   "execution_count": null,
   "id": "82579ee3-2edf-4799-a79e-3cda1b2c9608",
   "metadata": {},
   "outputs": [],
   "source": []
  },
  {
   "cell_type": "code",
   "execution_count": 152,
   "id": "161f88d5-3504-4f7c-a31c-4f31724598cd",
   "metadata": {},
   "outputs": [],
   "source": [
    "random_grid = RandomizedSearchCV(random_forest, param_dist, scoring='f1', n_jobs=-2)"
   ]
  },
  {
   "cell_type": "code",
   "execution_count": 153,
   "id": "835cdc18-7418-48cf-a83e-90f21f6e1daf",
   "metadata": {},
   "outputs": [
    {
     "data": {
      "text/plain": [
       "RandomizedSearchCV(estimator=RandomForestClassifier(class_weight='balanced'),\n",
       "                   n_jobs=-2,\n",
       "                   param_distributions={'class_weight': ['balanced',\n",
       "                                                         'balanced_subsample'],\n",
       "                                        'max_depth': [5, 10, 20, 50],\n",
       "                                        'n_estimators': [50, 100, 200, 1000]},\n",
       "                   scoring='f1')"
      ]
     },
     "execution_count": 153,
     "metadata": {},
     "output_type": "execute_result"
    }
   ],
   "source": [
    "random_grid.fit(X_train, y_train)"
   ]
  },
  {
   "cell_type": "code",
   "execution_count": 154,
   "id": "21e92f13-328b-4fe1-9807-2b92a582b9f6",
   "metadata": {},
   "outputs": [
    {
     "name": "stdout",
     "output_type": "stream",
     "text": [
      "Best params:  {'n_estimators': 1000, 'max_depth': 10, 'class_weight': 'balanced_subsample'}\n",
      "Best estimator:  RandomForestClassifier(class_weight='balanced_subsample', max_depth=10,\n",
      "                       n_estimators=1000)\n",
      "Best score:  0.40274820445366205\n"
     ]
    }
   ],
   "source": [
    "print(\"Best params: \", random_grid.best_params_)\n",
    "print(\"Best estimator: \", random_grid.best_estimator_)\n",
    "print(\"Best score: \", random_grid.best_score_)"
   ]
  },
  {
   "cell_type": "code",
   "execution_count": 155,
   "id": "92427052-e2ee-43ce-b535-2524b69cc6ad",
   "metadata": {},
   "outputs": [
    {
     "data": {
      "text/plain": [
       "{'mean_fit_time': array([121.2694416 ,  11.56288605,  20.57430906,  24.84685535,\n",
       "         44.61872292,  10.82660575,  52.07712026,  73.53900924,\n",
       "        147.21265607,  12.82631955]),\n",
       " 'std_fit_time': array([ 0.20785082,  0.07039837,  0.58023243,  0.27744   ,  0.11257584,\n",
       "         0.16085774,  0.28413595,  0.34700035, 10.72543679,  0.41512139]),\n",
       " 'mean_score_time': array([3.72711883, 0.35932922, 0.78194628, 0.8141283 , 1.67536311,\n",
       "        0.28081164, 2.46813831, 2.48846431, 2.89606538, 0.41830106]),\n",
       " 'std_score_time': array([0.02279812, 0.00420654, 0.0170073 , 0.01736843, 0.04004803,\n",
       "        0.0114762 , 0.02464962, 0.0166158 , 0.41882153, 0.00711   ]),\n",
       " 'param_n_estimators': masked_array(data=[1000, 100, 100, 100, 200, 100, 200, 1000, 1000, 50],\n",
       "              mask=[False, False, False, False, False, False, False, False,\n",
       "                    False, False],\n",
       "        fill_value='?',\n",
       "             dtype=object),\n",
       " 'param_max_depth': masked_array(data=[10, 10, 20, 20, 20, 5, 50, 5, 10, 20],\n",
       "              mask=[False, False, False, False, False, False, False, False,\n",
       "                    False, False],\n",
       "        fill_value='?',\n",
       "             dtype=object),\n",
       " 'param_class_weight': masked_array(data=['balanced', 'balanced', 'balanced',\n",
       "                    'balanced_subsample', 'balanced', 'balanced_subsample',\n",
       "                    'balanced', 'balanced', 'balanced_subsample',\n",
       "                    'balanced_subsample'],\n",
       "              mask=[False, False, False, False, False, False, False, False,\n",
       "                    False, False],\n",
       "        fill_value='?',\n",
       "             dtype=object),\n",
       " 'params': [{'n_estimators': 1000,\n",
       "   'max_depth': 10,\n",
       "   'class_weight': 'balanced'},\n",
       "  {'n_estimators': 100, 'max_depth': 10, 'class_weight': 'balanced'},\n",
       "  {'n_estimators': 100, 'max_depth': 20, 'class_weight': 'balanced'},\n",
       "  {'n_estimators': 100, 'max_depth': 20, 'class_weight': 'balanced_subsample'},\n",
       "  {'n_estimators': 200, 'max_depth': 20, 'class_weight': 'balanced'},\n",
       "  {'n_estimators': 100, 'max_depth': 5, 'class_weight': 'balanced_subsample'},\n",
       "  {'n_estimators': 200, 'max_depth': 50, 'class_weight': 'balanced'},\n",
       "  {'n_estimators': 1000, 'max_depth': 5, 'class_weight': 'balanced'},\n",
       "  {'n_estimators': 1000,\n",
       "   'max_depth': 10,\n",
       "   'class_weight': 'balanced_subsample'},\n",
       "  {'n_estimators': 50, 'max_depth': 20, 'class_weight': 'balanced_subsample'}],\n",
       " 'split0_test_score': array([0.40851412, 0.40724511, 0.29505703, 0.29295107, 0.28920436,\n",
       "        0.40034936, 0.06403202, 0.4016663 , 0.40792936, 0.29605688]),\n",
       " 'split1_test_score': array([0.39596264, 0.39457275, 0.28928379, 0.28996362, 0.28743935,\n",
       "        0.38951516, 0.06935645, 0.3872238 , 0.39585637, 0.28908935]),\n",
       " 'split2_test_score': array([0.40270824, 0.40006812, 0.30809952, 0.31062209, 0.30838323,\n",
       "        0.39206597, 0.06766667, 0.39205127, 0.40461967, 0.30671736]),\n",
       " 'split3_test_score': array([0.40299712, 0.40142709, 0.30079043, 0.29937321, 0.29522369,\n",
       "        0.3940876 , 0.06315789, 0.39410721, 0.40258616, 0.295481  ]),\n",
       " 'split4_test_score': array([0.40340644, 0.4030458 , 0.29932117, 0.29568315, 0.30035857,\n",
       "        0.39474831, 0.06520649, 0.3948083 , 0.40274946, 0.30676878]),\n",
       " 'mean_test_score': array([0.40271771, 0.40127177, 0.29851039, 0.29771863, 0.29612184,\n",
       "        0.39415328, 0.0658839 , 0.39397138, 0.4027482 , 0.29882268]),\n",
       " 'std_test_score': array([0.00399454, 0.00412741, 0.00624281, 0.00715891, 0.00764638,\n",
       "        0.00359496, 0.00230462, 0.0046722 , 0.0039464 , 0.00691406]),\n",
       " 'rank_test_score': array([ 2,  3,  7,  8,  9,  4, 10,  5,  1,  6], dtype=int32)}"
      ]
     },
     "execution_count": 155,
     "metadata": {},
     "output_type": "execute_result"
    }
   ],
   "source": [
    "random_grid.cv_results_"
   ]
  },
  {
   "cell_type": "code",
   "execution_count": 97,
   "id": "93c1a373-7be0-46a2-be43-9f82d073698e",
   "metadata": {},
   "outputs": [
    {
     "data": {
      "text/plain": [
       "RandomForestClassifier(class_weight='balanced_subsample', max_depth=10,\n",
       "                       n_estimators=1000)"
      ]
     },
     "execution_count": 97,
     "metadata": {},
     "output_type": "execute_result"
    }
   ],
   "source": [
    "random_forest = RandomForestClassifier(n_estimators=1000, class_weight='balanced_subsample', max_depth=10)\n",
    "random_forest.fit(X_train, y_train)"
   ]
  },
  {
   "cell_type": "code",
   "execution_count": 99,
   "id": "000dff84-3002-4af7-859d-890d11178f24",
   "metadata": {},
   "outputs": [
    {
     "data": {
      "image/png": "[encoded data removed]",
      "text/plain": [
       "<Figure size 480x320 with 1 Axes>"
      ]
     },
     "metadata": {
      "needs_background": "light"
     },
     "output_type": "display_data"
    }
   ],
   "source": [
    "precision_curve, recall_curve, threshold_curve = precision_recall_curve(y_val, random_forest.predict_proba(X_val)[:,1])\n",
    "\n",
    "plt.figure(dpi=80)\n",
    "plt.plot(threshold_curve, precision_curve[1:],label='precision')\n",
    "plt.plot(threshold_curve, recall_curve[1:], label='recall')\n",
    "plt.legend(loc='lower left')\n",
    "plt.xlabel('Threshold (above this probability, label as loan default)');\n",
    "plt.title('Precision and Recall Curves - Random Forest');"
   ]
  },
  {
   "cell_type": "code",
   "execution_count": null,
   "id": "5c0789a5-dfbc-487f-b3ee-1ebd92174fef",
   "metadata": {},
   "outputs": [],
   "source": []
  },
  {
   "cell_type": "code",
   "execution_count": null,
   "id": "d51fb5ea-98ef-4b49-8ea9-5dde4cfe6b25",
   "metadata": {},
   "outputs": [],
   "source": []
  },
  {
   "cell_type": "code",
   "execution_count": null,
   "id": "37a8b8bd-ed4d-4939-9620-1f66031770c1",
   "metadata": {},
   "outputs": [],
   "source": []
  },
  {
   "cell_type": "code",
   "execution_count": 101,
   "id": "07822656-b016-4978-9e78-1c36050fe95c",
   "metadata": {
    "tags": []
   },
   "outputs": [],
   "source": [
    "gbm = xgb.XGBRegressor(n_estimators=30000, max_depth=3, objective='reg:squarederror', learning_rate=0.1, subsample=1, min_child_weight=1)"
   ]
  },
  {
   "cell_type": "code",
   "execution_count": 102,
   "id": "a244c929-7660-4eaa-8501-17d9c7f76808",
   "metadata": {},
   "outputs": [],
   "source": [
    "eval_set = [(X_train, y_train), (X_val, y_val)]"
   ]
  },
  {
   "cell_type": "code",
   "execution_count": 103,
   "id": "179803d9-8c01-4751-aa33-cb272fe81b36",
   "metadata": {},
   "outputs": [],
   "source": [
    "gbm_fit = gbm.fit(X_train, y_train, eval_set = eval_set, eval_metric='rmse', early_stopping_rounds=50, verbose=False)"
   ]
  },
  {
   "cell_type": "code",
   "execution_count": 104,
   "id": "1a631f8e-8ccf-492f-a6ae-bfa077a74172",
   "metadata": {},
   "outputs": [],
   "source": [
    "def rmse(actuals, preds):\n",
    "    return np.sqrt(((actuals - preds) ** 2).mean())"
   ]
  },
  {
   "cell_type": "code",
   "execution_count": 105,
   "id": "24c46232-3386-4127-ac23-bc46ec337a24",
   "metadata": {},
   "outputs": [
    {
     "data": {
      "text/plain": [
       "0.36855118143738297"
      ]
     },
     "execution_count": 105,
     "metadata": {},
     "output_type": "execute_result"
    }
   ],
   "source": [
    "rmse(gbm.predict(X_val, ntree_limit=gbm.best_ntree_limit), y_val)"
   ]
  },
  {
   "cell_type": "code",
   "execution_count": 106,
   "id": "609632c4-0b5c-4f87-8236-e0cc51961bb3",
   "metadata": {},
   "outputs": [
    {
     "data": {
      "image/png": "[encoded data removed]",
      "text/plain": [
       "<Figure size 480x320 with 1 Axes>"
      ]
     },
     "metadata": {
      "needs_background": "light"
     },
     "output_type": "display_data"
    }
   ],
   "source": [
    "precision_curve, recall_curve, threshold_curve = precision_recall_curve(y_val, gbm.predict(X_val))\n",
    "\n",
    "plt.figure(dpi=80)\n",
    "plt.plot(threshold_curve, precision_curve[1:],label='precision')\n",
    "plt.plot(threshold_curve, recall_curve[1:], label='recall')\n",
    "plt.legend(loc='lower left')\n",
    "plt.xlabel('Threshold (above this probability, label as loan default)');\n",
    "plt.title('Precision and Recall Curves - XGBoost');"
   ]
  },
  {
   "cell_type": "code",
   "execution_count": null,
   "id": "e1463303-3cb8-4ec3-9238-5fbad1b3dd2b",
   "metadata": {},
   "outputs": [],
   "source": []
  },
  {
   "cell_type": "code",
   "execution_count": null,
   "id": "a48bd24d-814b-451e-9b9c-6d97f2a120a2",
   "metadata": {},
   "outputs": [],
   "source": []
  },
  {
   "cell_type": "code",
   "execution_count": 107,
   "id": "ba59972c-b76e-430b-9665-2f4b6534664a",
   "metadata": {},
   "outputs": [],
   "source": [
    "gbm_threshold = 0.25"
   ]
  },
  {
   "cell_type": "code",
   "execution_count": 108,
   "id": "aaed19f8-b1e5-405a-9d19-f1a253669249",
   "metadata": {},
   "outputs": [
    {
     "data": {
      "text/plain": [
       "0.39226801201745937"
      ]
     },
     "execution_count": 108,
     "metadata": {},
     "output_type": "execute_result"
    }
   ],
   "source": [
    "f1_score(y_val, gbm.predict(X_val) > gbm_threshold)"
   ]
  },
  {
   "cell_type": "code",
   "execution_count": 109,
   "id": "0311d282-4227-46c5-8cd7-014bac2a8339",
   "metadata": {},
   "outputs": [
    {
     "data": {
      "text/plain": [
       "0.33762685402029663"
      ]
     },
     "execution_count": 109,
     "metadata": {},
     "output_type": "execute_result"
    }
   ],
   "source": [
    "precision_score(y_val, gbm.predict(X_val) > gbm_threshold)"
   ]
  },
  {
   "cell_type": "code",
   "execution_count": 110,
   "id": "e959fd19-fe88-4d29-864e-a5889cd6e56a",
   "metadata": {},
   "outputs": [
    {
     "data": {
      "text/plain": [
       "0.4680102799945895"
      ]
     },
     "execution_count": 110,
     "metadata": {},
     "output_type": "execute_result"
    }
   ],
   "source": [
    "recall_score(y_val, gbm.predict(X_val) > gbm_threshold)"
   ]
  },
  {
   "cell_type": "code",
   "execution_count": 111,
   "id": "a7abdcb2-cd61-4b1f-9cd3-1a859282ac02",
   "metadata": {},
   "outputs": [
    {
     "data": {
      "text/plain": [
       "0.7539892015365695"
      ]
     },
     "execution_count": 111,
     "metadata": {},
     "output_type": "execute_result"
    }
   ],
   "source": [
    "f1_score(y_val, gbm.predict(X_val) > gbm_threshold, average='weighted')"
   ]
  },
  {
   "cell_type": "code",
   "execution_count": 112,
   "id": "94afb77a-f542-43d9-8c1f-e176cd141059",
   "metadata": {},
   "outputs": [
    {
     "data": {
      "text/plain": [
       "0.7758395640246402"
      ]
     },
     "execution_count": 112,
     "metadata": {},
     "output_type": "execute_result"
    }
   ],
   "source": [
    "precision_score(y_val, gbm.predict(X_val) > gbm_threshold, average='weighted')"
   ]
  },
  {
   "cell_type": "code",
   "execution_count": 113,
   "id": "f39c85e4-b71b-4e22-b5c7-f7c159d2554b",
   "metadata": {},
   "outputs": [
    {
     "data": {
      "text/plain": [
       "0.7386333162680709"
      ]
     },
     "execution_count": 113,
     "metadata": {},
     "output_type": "execute_result"
    }
   ],
   "source": [
    "recall_score(y_val, gbm.predict(X_val) > gbm_threshold, average='weighted')"
   ]
  },
  {
   "cell_type": "code",
   "execution_count": 161,
   "id": "5fcb7f8f-4fe3-426c-a5a2-06786258abb0",
   "metadata": {},
   "outputs": [],
   "source": [
    "gbm_params = {'objective': ['reg:squarederror'],\n",
    "              'booster': ['gbtree'],\n",
    "              'learning_rate': np.linspace(0.01, 1, 20),\n",
    "              'max_depth': range(1, 22, 3),\n",
    "              'min_child_weight': range(1, 31, 3),\n",
    "              'n_estimators': range(100, 50000, 2000),\n",
    "              'reg_alpha': [0.2, 0.5, 1],\n",
    "              'reg_lambda': [2, 3, 5],\n",
    "              'gamma': [1, 2, 3]\n",
    "             }"
   ]
  },
  {
   "cell_type": "code",
   "execution_count": 162,
   "id": "a1148ab3-4784-4712-85cf-74fc40e34086",
   "metadata": {},
   "outputs": [],
   "source": [
    "gbm_grid = RandomizedSearchCV(gbm, gbm_params, scoring='f1', n_jobs=-2)"
   ]
  },
  {
   "cell_type": "code",
   "execution_count": 165,
   "id": "b86c070d-440b-46cb-b91f-4b469eecaf2d",
   "metadata": {},
   "outputs": [
    {
     "data": {
      "text/plain": [
       "0.18294828038855343"
      ]
     },
     "execution_count": 165,
     "metadata": {},
     "output_type": "execute_result"
    }
   ],
   "source": []
  },
  {
   "cell_type": "code",
   "execution_count": null,
   "id": "fe13a540-5575-4785-9338-aa2ccf067e8f",
   "metadata": {},
   "outputs": [],
   "source": [
    "gbm_grid.fit(X_train, y_train)"
   ]
  },
  {
   "cell_type": "code",
   "execution_count": null,
   "id": "7091653e-61bd-4e52-85a9-8120311f8796",
   "metadata": {},
   "outputs": [],
   "source": [
    "print(\"Best params: \", gbm_grid.best_params_)\n",
    "print(\"Best estimator: \", gbm_grid.best_estimator_)\n",
    "print(\"Best score: \", gbm_grid.best_score_)"
   ]
  },
  {
   "cell_type": "code",
   "execution_count": null,
   "id": "0fcdcf27-5943-435c-b71c-c98c967f3b35",
   "metadata": {},
   "outputs": [],
   "source": [
    "gbm_grid.cv_results_"
   ]
  },
  {
   "cell_type": "code",
   "execution_count": null,
   "id": "e7705ee8-fdca-455f-870d-bc38d09709c3",
   "metadata": {},
   "outputs": [],
   "source": []
  },
  {
   "cell_type": "code",
   "execution_count": 114,
   "id": "8e09c42d-b132-45d6-b80a-6a35fa91f1ee",
   "metadata": {},
   "outputs": [
    {
     "data": {
      "text/plain": [
       "LogisticRegression(C=1, class_weight='balanced')"
      ]
     },
     "execution_count": 114,
     "metadata": {},
     "output_type": "execute_result"
    }
   ],
   "source": [
    "lm = LogisticRegression(C=1, class_weight='balanced')\n",
    "lm.fit(X_train_scaled, y_train)"
   ]
  },
  {
   "cell_type": "code",
   "execution_count": 115,
   "id": "64b7e974-b4bd-4707-811e-50cc4fc39de2",
   "metadata": {},
   "outputs": [
    {
     "name": "stdout",
     "output_type": "stream",
     "text": [
      "annual_inc: -0.28453073206967666\n",
      "collections_12_mths_ex_med: 0.01634812375815057\n",
      "delinq_2yrs: 0.03487113268034187\n",
      "dti: 0.17366075283211896\n",
      "inq_last_6mths: 0.10874998931368313\n",
      "int_rate: 0.46848915177086986\n",
      "open_acc: 0.07759489714611521\n",
      "pub_rec: -0.008157126513906508\n",
      "revol_util: 0.06555156916332934\n",
      "total_acc: -0.18708815663016906\n",
      "acc_now_delinq: -0.0009374351495794527\n",
      "term_ 60 months: 0.17624508895533056\n",
      "grade_B: 0.08635578588757153\n",
      "grade_C: 0.10633564632323543\n",
      "grade_D: 0.08619749515123452\n",
      "grade_E: 0.043550315706198835\n",
      "grade_F: -0.009862258590319882\n",
      "grade_G: -0.009424926748974358\n",
      "installment: 0.07362509994794908\n"
     ]
    }
   ],
   "source": [
    "for column, coef in zip(X_train.columns, lm.coef_[0]):\n",
    "    print (f'{column}: {coef}')"
   ]
  },
  {
   "cell_type": "code",
   "execution_count": 116,
   "id": "e1fa0b7c-646a-4252-aa20-036663ccbd4d",
   "metadata": {},
   "outputs": [
    {
     "data": {
      "image/png": "[encoded data removed]",
      "text/plain": [
       "<Figure size 480x320 with 1 Axes>"
      ]
     },
     "metadata": {
      "needs_background": "light"
     },
     "output_type": "display_data"
    }
   ],
   "source": [
    "precision_curve, recall_curve, threshold_curve = precision_recall_curve(y_val, lm.predict_proba(X_val_scaled)[:,1])\n",
    "\n",
    "plt.figure(dpi=80)\n",
    "plt.plot(threshold_curve, precision_curve[1:],label='precision')\n",
    "plt.plot(threshold_curve, recall_curve[1:], label='recall')\n",
    "plt.legend(loc='lower left')\n",
    "plt.xlabel('Threshold (above this probability, label as loan default)');\n",
    "plt.title('Precision and Recall Curves - Initial Logistic Regression');"
   ]
  },
  {
   "cell_type": "code",
   "execution_count": null,
   "id": "3df1fb51-e456-41fe-8f00-f3fd0c653c22",
   "metadata": {},
   "outputs": [],
   "source": []
  },
  {
   "cell_type": "code",
   "execution_count": 117,
   "id": "5b7f0dc9-a5b8-44b6-b89b-53f3d04125ef",
   "metadata": {},
   "outputs": [],
   "source": [
    "lm_threshold = .25"
   ]
  },
  {
   "cell_type": "code",
   "execution_count": 118,
   "id": "c8578886-95a2-46f4-a98e-4ad404b99fea",
   "metadata": {},
   "outputs": [
    {
     "data": {
      "text/plain": [
       "0.674137247229149"
      ]
     },
     "execution_count": 118,
     "metadata": {},
     "output_type": "execute_result"
    }
   ],
   "source": [
    "f1_score(y_val, lm.predict(X_val_scaled), average='weighted')"
   ]
  },
  {
   "cell_type": "code",
   "execution_count": 119,
   "id": "d6a59c29-463d-4b4a-b291-60895e4b4afa",
   "metadata": {},
   "outputs": [
    {
     "data": {
      "text/plain": [
       "0.6319510470757453"
      ]
     },
     "execution_count": 119,
     "metadata": {},
     "output_type": "execute_result"
    }
   ],
   "source": [
    "recall_score(y_val, lm.predict(X_val_scaled), average='weighted')"
   ]
  },
  {
   "cell_type": "code",
   "execution_count": 120,
   "id": "a7624084-e1da-4dea-a3fb-d9334f8a87df",
   "metadata": {},
   "outputs": [
    {
     "data": {
      "text/plain": [
       "0.7836950544166008"
      ]
     },
     "execution_count": 120,
     "metadata": {},
     "output_type": "execute_result"
    }
   ],
   "source": [
    "precision_score(y_val, lm.predict(X_val_scaled), average='weighted')"
   ]
  },
  {
   "cell_type": "code",
   "execution_count": 121,
   "id": "e5a5a1e4-64e7-43c9-9043-ed777ece45cb",
   "metadata": {},
   "outputs": [
    {
     "data": {
      "text/plain": [
       "0.33117608715895336"
      ]
     },
     "execution_count": 121,
     "metadata": {},
     "output_type": "execute_result"
    }
   ],
   "source": [
    "f1_score(y_val, lm.predict_proba(X_val_scaled)[:,1] > lm_threshold)"
   ]
  },
  {
   "cell_type": "code",
   "execution_count": 122,
   "id": "688315a2-51d5-46d0-a01d-855dacaf75c9",
   "metadata": {},
   "outputs": [
    {
     "data": {
      "text/plain": [
       "0.9621263357229812"
      ]
     },
     "execution_count": 122,
     "metadata": {},
     "output_type": "execute_result"
    }
   ],
   "source": [
    "recall_score(y_val, lm.predict_proba(X_val_scaled)[:,1] > lm_threshold)"
   ]
  },
  {
   "cell_type": "code",
   "execution_count": 123,
   "id": "8cd960e7-19ed-4538-92d3-0bbc876d187b",
   "metadata": {},
   "outputs": [
    {
     "data": {
      "text/plain": [
       "0.20001124764502431"
      ]
     },
     "execution_count": 123,
     "metadata": {},
     "output_type": "execute_result"
    }
   ],
   "source": [
    "precision_score(y_val, lm.predict_proba(X_val_scaled)[:,1] > lm_threshold)"
   ]
  },
  {
   "cell_type": "code",
   "execution_count": 124,
   "id": "32f3e96c-1ec7-48c0-95fa-6412edb98e10",
   "metadata": {},
   "outputs": [
    {
     "data": {
      "text/plain": [
       "KNeighborsClassifier(n_neighbors=52)"
      ]
     },
     "execution_count": 124,
     "metadata": {},
     "output_type": "execute_result"
    }
   ],
   "source": [
    "knn = KNeighborsClassifier(n_neighbors=52, weights='uniform')\n",
    "knn.fit(X_train_scaled, y_train)"
   ]
  },
  {
   "cell_type": "code",
   "execution_count": 125,
   "id": "3fc3fb00-f617-4ebe-9b3f-cfd047913419",
   "metadata": {},
   "outputs": [
    {
     "data": {
      "image/png": "[encoded data removed]",
      "text/plain": [
       "<Figure size 480x320 with 1 Axes>"
      ]
     },
     "metadata": {
      "needs_background": "light"
     },
     "output_type": "display_data"
    }
   ],
   "source": [
    "precision_curve, recall_curve, threshold_curve = precision_recall_curve(y_val, knn.predict_proba(X_val_scaled)[:,1])\n",
    "\n",
    "plt.figure(dpi=80)\n",
    "plt.plot(threshold_curve, precision_curve[1:],label='precision')\n",
    "plt.plot(threshold_curve, recall_curve[1:], label='recall')\n",
    "plt.legend(loc='lower left')\n",
    "plt.xlabel('Threshold (above this probability, label as loan default)');\n",
    "plt.title('Precision and Recall Curves - KNN');"
   ]
  },
  {
   "cell_type": "code",
   "execution_count": 126,
   "id": "ffe4b08e-3458-45ab-a82d-0861e1f78ade",
   "metadata": {},
   "outputs": [
    {
     "data": {
      "text/plain": [
       "0.7445316961350863"
      ]
     },
     "execution_count": 126,
     "metadata": {},
     "output_type": "execute_result"
    }
   ],
   "source": [
    "f1_score(y_val, knn.predict(X_val_scaled), average='weighted')"
   ]
  },
  {
   "cell_type": "code",
   "execution_count": 127,
   "id": "68262179-3bd3-4286-a650-50f5488e2003",
   "metadata": {},
   "outputs": [
    {
     "data": {
      "text/plain": [
       "0.8186937760549989"
      ]
     },
     "execution_count": 127,
     "metadata": {},
     "output_type": "execute_result"
    }
   ],
   "source": [
    "recall_score(y_val, knn.predict(X_val_scaled), average='weighted')"
   ]
  },
  {
   "cell_type": "code",
   "execution_count": 128,
   "id": "da4f7527-1d8f-414b-94c0-d62c92bd479b",
   "metadata": {},
   "outputs": [
    {
     "data": {
      "text/plain": [
       "0.7520544560979996"
      ]
     },
     "execution_count": 128,
     "metadata": {},
     "output_type": "execute_result"
    }
   ],
   "source": [
    "precision_score(y_val, knn.predict(X_val_scaled), average='weighted')"
   ]
  },
  {
   "cell_type": "code",
   "execution_count": 129,
   "id": "05914b5d-0928-4e95-85f9-3a505c7f1146",
   "metadata": {},
   "outputs": [
    {
     "data": {
      "text/plain": [
       "0.037779790399792984"
      ]
     },
     "execution_count": 129,
     "metadata": {},
     "output_type": "execute_result"
    }
   ],
   "source": [
    "f1_score(y_val, knn.predict(X_val_scaled))"
   ]
  },
  {
   "cell_type": "code",
   "execution_count": 130,
   "id": "082217db-bfcf-4572-9dab-0696625da6d4",
   "metadata": {},
   "outputs": [
    {
     "data": {
      "text/plain": [
       "0.019748410658731234"
      ]
     },
     "execution_count": 130,
     "metadata": {},
     "output_type": "execute_result"
    }
   ],
   "source": [
    "recall_score(y_val, knn.predict(X_val_scaled))"
   ]
  },
  {
   "cell_type": "code",
   "execution_count": 131,
   "id": "c3d2eb0a-6d7e-4aca-8090-9eb8f024d936",
   "metadata": {},
   "outputs": [
    {
     "data": {
      "text/plain": [
       "0.43452380952380953"
      ]
     },
     "execution_count": 131,
     "metadata": {},
     "output_type": "execute_result"
    }
   ],
   "source": [
    "precision_score(y_val, knn.predict(X_val_scaled))"
   ]
  },
  {
   "cell_type": "code",
   "execution_count": null,
   "id": "4ebc1822-5fba-40d2-94a1-061d331ba577",
   "metadata": {},
   "outputs": [],
   "source": []
  },
  {
   "cell_type": "code",
   "execution_count": 132,
   "id": "a6f1f956-f9b9-42df-80b9-eff284796442",
   "metadata": {},
   "outputs": [],
   "source": [
    "fpr_rf, tpr_rf, threshold_rf = roc_curve(y_val, random_forest.predict_proba(X_val)[:,1])\n",
    "fpr_gbm, tpr_gbm, threshold_gbm = roc_curve(y_val, gbm.predict(X_val))\n",
    "fpr_lm, tpr_lm, threshold_lm = roc_curve(y_val, lm.predict_proba(X_val_scaled)[:,1])\n",
    "fpr_knn, tpr_knn, threshold_knn = roc_curve(y_val, knn.predict_proba(X_val_scaled)[:,1])"
   ]
  },
  {
   "cell_type": "code",
   "execution_count": 133,
   "id": "4f6aa8ba-5bd6-49ba-9949-f807dac47bae",
   "metadata": {},
   "outputs": [
    {
     "name": "stdout",
     "output_type": "stream",
     "text": [
      "ROC AUC score (Random Forest) =  0.701173812953782\n",
      "ROC AUC score (XGBoost) =  0.704954517998281\n",
      "ROC AUC score (Logistic Reg) =  0.6996392973627704\n",
      "ROC AUC score (KNN) =  0.6786041938765333\n"
     ]
    },
    {
     "data": {
      "image/png": "[encoded data removed]",
      "text/plain": [
       "<Figure size 432x288 with 1 Axes>"
      ]
     },
     "metadata": {
      "needs_background": "light"
     },
     "output_type": "display_data"
    }
   ],
   "source": [
    "plt.plot(fpr_rf, tpr_rf)\n",
    "plt.plot(fpr_gbm, tpr_gbm)\n",
    "plt.plot(fpr_lm, tpr_lm)\n",
    "plt.plot(fpr_knn, tpr_knn)\n",
    "plt.plot([0,1],[0,1],c='violet',ls='--')\n",
    "plt.xlim([-0.05,1.05])\n",
    "plt.ylim([-0.05,1.05])\n",
    "\n",
    "\n",
    "plt.xlabel('False positive rate')\n",
    "plt.ylabel('True positive rate')\n",
    "plt.legend(['Random Forest', 'XGBoost', 'Logistic Reg', 'KNN', 'Random Guess'])\n",
    "plt.title('ROC Curves for Loan Default')\n",
    "plt.savefig('ROC_curves_final.png', facecolor='w', edgecolor='w', dpi=200, bbox_inches='tight');\n",
    "print(\"ROC AUC score (Random Forest) = \", roc_auc_score(y_val, random_forest.predict_proba(X_val)[:,1]))\n",
    "print(\"ROC AUC score (XGBoost) = \", roc_auc_score(y_val, gbm.predict(X_val)))\n",
    "print(\"ROC AUC score (Logistic Reg) = \", roc_auc_score(y_val, lm.predict_proba(X_val_scaled)[:,1]))\n",
    "print(\"ROC AUC score (KNN) = \", roc_auc_score(y_val, knn.predict_proba(X_val_scaled)[:,1]))"
   ]
  },
  {
   "cell_type": "code",
   "execution_count": 134,
   "id": "b387f9e1-3ad4-4782-98ad-99c31b05d504",
   "metadata": {},
   "outputs": [
    {
     "data": {
      "text/plain": [
       "array([[ 4613, 29013],\n",
       "       [  228,  7165]])"
      ]
     },
     "execution_count": 134,
     "metadata": {},
     "output_type": "execute_result"
    }
   ],
   "source": [
    "confusion_matrix(y_val, random_forest.predict_proba(X_val)[:,1] > .25)"
   ]
  },
  {
   "cell_type": "code",
   "execution_count": 135,
   "id": "666a0c43-6f2a-4ac8-b6e1-7e2401092626",
   "metadata": {},
   "outputs": [
    {
     "data": {
      "text/plain": [
       "array([[26838,  6788],\n",
       "       [ 3933,  3460]])"
      ]
     },
     "execution_count": 135,
     "metadata": {},
     "output_type": "execute_result"
    }
   ],
   "source": [
    "confusion_matrix(y_val, gbm.predict(X_val) > .25)"
   ]
  },
  {
   "cell_type": "code",
   "execution_count": 136,
   "id": "948a59be-4a4d-4d04-a9fd-3a2f466af08c",
   "metadata": {},
   "outputs": [
    {
     "data": {
      "text/plain": [
       "array([[26673,  6953],\n",
       "       [ 4182,  3211]])"
      ]
     },
     "execution_count": 136,
     "metadata": {},
     "output_type": "execute_result"
    }
   ],
   "source": [
    "confusion_matrix(y_val, knn.predict_proba(X_val_scaled)[:,1] > .25)"
   ]
  },
  {
   "cell_type": "code",
   "execution_count": 137,
   "id": "dd3f0289-9f3c-4c40-bd2a-88a8c388a617",
   "metadata": {},
   "outputs": [
    {
     "data": {
      "text/plain": [
       "array([[ 5176, 28450],\n",
       "       [  280,  7113]])"
      ]
     },
     "execution_count": 137,
     "metadata": {},
     "output_type": "execute_result"
    }
   ],
   "source": [
    "confusion_matrix(y_val, lm.predict_proba(X_val_scaled)[:,1] > .25)"
   ]
  },
  {
   "cell_type": "code",
   "execution_count": 138,
   "id": "cca706c8-0a6a-4489-bdca-925d0ad2a60a",
   "metadata": {},
   "outputs": [
    {
     "data": {
      "text/plain": [
       "array([0.1405545 , 0.28499554, 0.49138934, ..., 0.54298037, 0.31417774,\n",
       "       0.53756612])"
      ]
     },
     "execution_count": 138,
     "metadata": {},
     "output_type": "execute_result"
    }
   ],
   "source": [
    "random_forest.predict_proba(X_val)[:,1]"
   ]
  },
  {
   "cell_type": "code",
   "execution_count": 139,
   "id": "0dd4f353-1c33-4eeb-b651-38cab8c089c3",
   "metadata": {},
   "outputs": [
    {
     "data": {
      "text/plain": [
       "array([0.00993164, 0.10341603, 0.21249612, ..., 0.26716816, 0.10828687,\n",
       "       0.22545424], dtype=float32)"
      ]
     },
     "execution_count": 139,
     "metadata": {},
     "output_type": "execute_result"
    }
   ],
   "source": [
    "gbm.predict(X_val)"
   ]
  },
  {
   "cell_type": "code",
   "execution_count": 74,
   "id": "9c119d35-88c9-4064-a79e-fb00263db549",
   "metadata": {},
   "outputs": [],
   "source": [
    "ftwo_scorer = make_scorer(fbeta_score, beta=2)"
   ]
  },
  {
   "cell_type": "code",
   "execution_count": 52,
   "id": "a942c07e-0b7a-4e9c-8f0a-a860c8d0c576",
   "metadata": {},
   "outputs": [],
   "source": [
    "lm_param_grid = {'C' : [.01, .1, .3, .5, .7, .9, 1, 10, 100, 1000, 10000],\n",
    "              'penalty' : ['l1', 'l2'],\n",
    "              'solver' : ['liblinear'],\n",
    "              'class_weight' : ['balanced'],\n",
    "              'max_iter' : [50, 100, 250, 500, 1000]\n",
    "             }"
   ]
  },
  {
   "cell_type": "code",
   "execution_count": 75,
   "id": "50ce5992-499b-4a79-93f6-6f711c7493ef",
   "metadata": {},
   "outputs": [],
   "source": [
    "lm_grid = RandomizedSearchCV(lm, lm_param_grid, scoring=ftwo_scorer, n_jobs=-2)"
   ]
  },
  {
   "cell_type": "code",
   "execution_count": 76,
   "id": "daec55ca-8cb7-4e98-9e9b-c9453ae7aa54",
   "metadata": {},
   "outputs": [
    {
     "data": {
      "text/plain": [
       "RandomizedSearchCV(estimator=LogisticRegression(C=1, class_weight='balanced'),\n",
       "                   n_jobs=-2,\n",
       "                   param_distributions={'C': [0.01, 0.1, 0.3, 0.5, 0.7, 0.9, 1,\n",
       "                                              10, 100, 1000, 10000],\n",
       "                                        'class_weight': ['balanced'],\n",
       "                                        'max_iter': [50, 100, 250, 500, 1000],\n",
       "                                        'penalty': ['l1', 'l2'],\n",
       "                                        'solver': ['liblinear']},\n",
       "                   scoring=make_scorer(fbeta_score, beta=2))"
      ]
     },
     "execution_count": 76,
     "metadata": {},
     "output_type": "execute_result"
    }
   ],
   "source": [
    "lm_grid.fit(X_train_scaled, y_train)"
   ]
  },
  {
   "cell_type": "code",
   "execution_count": 77,
   "id": "b496db25-2b9d-4efa-a888-9225d55951c2",
   "metadata": {},
   "outputs": [
    {
     "name": "stdout",
     "output_type": "stream",
     "text": [
      "Best params:  {'solver': 'liblinear', 'penalty': 'l1', 'max_iter': 1000, 'class_weight': 'balanced', 'C': 100}\n",
      "Best estimator:  LogisticRegression(C=100, class_weight='balanced', max_iter=1000, penalty='l1',\n",
      "                   solver='liblinear')\n",
      "Best score:  0.5229898257475247\n"
     ]
    }
   ],
   "source": [
    "print(\"Best params: \", lm_grid.best_params_)\n",
    "print(\"Best estimator: \", lm_grid.best_estimator_)\n",
    "print(\"Best score: \", lm_grid.best_score_)"
   ]
  },
  {
   "cell_type": "code",
   "execution_count": 78,
   "id": "444843a8-46e7-4589-9037-059a732af354",
   "metadata": {
    "tags": []
   },
   "outputs": [
    {
     "data": {
      "text/plain": [
       "{'mean_fit_time': array([2.48481016, 2.03381662, 0.7567153 , 1.533776  , 0.742415  ,\n",
       "        0.58742533, 0.58717694, 0.6274086 , 2.03043785, 0.77032714]),\n",
       " 'std_fit_time': array([0.30600025, 0.49407404, 0.01963809, 0.50756049, 0.10317872,\n",
       "        0.00960527, 0.02618266, 0.02404787, 0.1008611 , 0.13815812]),\n",
       " 'mean_score_time': array([0.03115783, 0.02947197, 0.02246432, 0.02306218, 0.02809553,\n",
       "        0.02290468, 0.02702947, 0.02551708, 0.0258327 , 0.02098136]),\n",
       " 'std_score_time': array([0.00486691, 0.01051673, 0.00345994, 0.00391687, 0.00393702,\n",
       "        0.00308864, 0.00750977, 0.00069157, 0.01329595, 0.00655035]),\n",
       " 'param_solver': masked_array(data=['liblinear', 'liblinear', 'liblinear', 'liblinear',\n",
       "                    'liblinear', 'liblinear', 'liblinear', 'liblinear',\n",
       "                    'liblinear', 'liblinear'],\n",
       "              mask=[False, False, False, False, False, False, False, False,\n",
       "                    False, False],\n",
       "        fill_value='?',\n",
       "             dtype=object),\n",
       " 'param_penalty': masked_array(data=['l1', 'l1', 'l2', 'l1', 'l2', 'l2', 'l2', 'l2', 'l1',\n",
       "                    'l2'],\n",
       "              mask=[False, False, False, False, False, False, False, False,\n",
       "                    False, False],\n",
       "        fill_value='?',\n",
       "             dtype=object),\n",
       " 'param_max_iter': masked_array(data=[1000, 100, 50, 1000, 500, 250, 250, 500, 100, 500],\n",
       "              mask=[False, False, False, False, False, False, False, False,\n",
       "                    False, False],\n",
       "        fill_value='?',\n",
       "             dtype=object),\n",
       " 'param_class_weight': masked_array(data=['balanced', 'balanced', 'balanced', 'balanced',\n",
       "                    'balanced', 'balanced', 'balanced', 'balanced',\n",
       "                    'balanced', 'balanced'],\n",
       "              mask=[False, False, False, False, False, False, False, False,\n",
       "                    False, False],\n",
       "        fill_value='?',\n",
       "             dtype=object),\n",
       " 'param_C': masked_array(data=[100, 100, 0.5, 10, 0.1, 1000, 10000, 1, 10000, 0.01],\n",
       "              mask=[False, False, False, False, False, False, False, False,\n",
       "                    False, False],\n",
       "        fill_value='?',\n",
       "             dtype=object),\n",
       " 'params': [{'solver': 'liblinear',\n",
       "   'penalty': 'l1',\n",
       "   'max_iter': 1000,\n",
       "   'class_weight': 'balanced',\n",
       "   'C': 100},\n",
       "  {'solver': 'liblinear',\n",
       "   'penalty': 'l1',\n",
       "   'max_iter': 100,\n",
       "   'class_weight': 'balanced',\n",
       "   'C': 100},\n",
       "  {'solver': 'liblinear',\n",
       "   'penalty': 'l2',\n",
       "   'max_iter': 50,\n",
       "   'class_weight': 'balanced',\n",
       "   'C': 0.5},\n",
       "  {'solver': 'liblinear',\n",
       "   'penalty': 'l1',\n",
       "   'max_iter': 1000,\n",
       "   'class_weight': 'balanced',\n",
       "   'C': 10},\n",
       "  {'solver': 'liblinear',\n",
       "   'penalty': 'l2',\n",
       "   'max_iter': 500,\n",
       "   'class_weight': 'balanced',\n",
       "   'C': 0.1},\n",
       "  {'solver': 'liblinear',\n",
       "   'penalty': 'l2',\n",
       "   'max_iter': 250,\n",
       "   'class_weight': 'balanced',\n",
       "   'C': 1000},\n",
       "  {'solver': 'liblinear',\n",
       "   'penalty': 'l2',\n",
       "   'max_iter': 250,\n",
       "   'class_weight': 'balanced',\n",
       "   'C': 10000},\n",
       "  {'solver': 'liblinear',\n",
       "   'penalty': 'l2',\n",
       "   'max_iter': 500,\n",
       "   'class_weight': 'balanced',\n",
       "   'C': 1},\n",
       "  {'solver': 'liblinear',\n",
       "   'penalty': 'l1',\n",
       "   'max_iter': 100,\n",
       "   'class_weight': 'balanced',\n",
       "   'C': 10000},\n",
       "  {'solver': 'liblinear',\n",
       "   'penalty': 'l2',\n",
       "   'max_iter': 500,\n",
       "   'class_weight': 'balanced',\n",
       "   'C': 0.01}],\n",
       " 'split0_test_score': array([0.52666807, 0.52665424, 0.52666807, 0.52665424, 0.52668189,\n",
       "        0.52665424, 0.52665424, 0.52666807, 0.52665424, 0.52655065]),\n",
       " 'split1_test_score': array([0.52599156, 0.52597777, 0.52597777, 0.52586049, 0.52572942,\n",
       "        0.52597777, 0.52597777, 0.52597777, 0.52597777, 0.52564002]),\n",
       " 'split2_test_score': array([0.52671596, 0.52670215, 0.52670215, 0.52670215, 0.52670215,\n",
       "        0.52671596, 0.52671596, 0.52671596, 0.52670215, 0.52623991]),\n",
       " 'split3_test_score': array([0.51457638, 0.51457638, 0.51454933, 0.51457638, 0.5145358 ,\n",
       "        0.51457638, 0.51457638, 0.51456285, 0.5145358 , 0.51458991]),\n",
       " 'split4_test_score': array([0.52099717, 0.52098351, 0.52098351, 0.52098351, 0.52099717,\n",
       "        0.52099717, 0.52099717, 0.52099717, 0.52099717, 0.52059032]),\n",
       " 'mean_test_score': array([0.52298983, 0.52297881, 0.52297616, 0.52295535, 0.52292928,\n",
       "        0.5229843 , 0.5229843 , 0.52298436, 0.52297343, 0.52272216]),\n",
       " 'std_test_score': array([0.00471552, 0.00471058, 0.00472239, 0.00469586, 0.00469768,\n",
       "        0.00471161, 0.00471161, 0.0047186 , 0.00472392, 0.00460921]),\n",
       " 'rank_test_score': array([ 1,  5,  6,  8,  9,  3,  3,  2,  7, 10], dtype=int32)}"
      ]
     },
     "execution_count": 78,
     "metadata": {},
     "output_type": "execute_result"
    }
   ],
   "source": [
    "lm_grid.cv_results_"
   ]
  },
  {
   "cell_type": "code",
   "execution_count": 39,
   "id": "c84954ef-8aaa-4d21-af1e-941ace7df43e",
   "metadata": {},
   "outputs": [],
   "source": [
    "lm_param_grid_fine = {'C' : [.1, .25, .5, .75, 1, 10, 25, 50, 75, 100, 125, 150, 200, 250],\n",
    "              'penalty' : ['l1', 'l2'],\n",
    "              'solver' : ['liblinear'],\n",
    "              'class_weight' : ['balanced'],\n",
    "              'max_iter' : [800, 1000, 1200]\n",
    "             }"
   ]
  },
  {
   "cell_type": "code",
   "execution_count": 40,
   "id": "7f7657ff-1bd8-463e-9927-60c3f945b14a",
   "metadata": {},
   "outputs": [],
   "source": [
    "lm_grid_fine = GridSearchCV(lm, lm_param_grid_fine, scoring=ftwo_scorer)"
   ]
  },
  {
   "cell_type": "code",
   "execution_count": 41,
   "id": "39f8ab51-79f8-48d9-b7ee-770bb685124b",
   "metadata": {},
   "outputs": [
    {
     "data": {
      "text/plain": [
       "GridSearchCV(estimator=LogisticRegression(C=1, class_weight='balanced'),\n",
       "             param_grid={'C': [0.1, 0.25, 0.5, 0.75, 1, 10, 25, 50, 75, 100,\n",
       "                               125, 150, 200, 250],\n",
       "                         'class_weight': ['balanced'],\n",
       "                         'max_iter': [800, 1000, 1200], 'penalty': ['l1', 'l2'],\n",
       "                         'solver': ['liblinear']},\n",
       "             scoring=make_scorer(fbeta_score, beta=2))"
      ]
     },
     "execution_count": 41,
     "metadata": {},
     "output_type": "execute_result"
    }
   ],
   "source": [
    "lm_grid_fine.fit(X_train_scaled, y_train)"
   ]
  },
  {
   "cell_type": "code",
   "execution_count": 42,
   "id": "ee770db5-8edd-4710-b725-7916555f5f11",
   "metadata": {},
   "outputs": [
    {
     "name": "stdout",
     "output_type": "stream",
     "text": [
      "Best params:  {'C': 0.5, 'class_weight': 'balanced', 'max_iter': 800, 'penalty': 'l1', 'solver': 'liblinear'}\n",
      "Best estimator:  LogisticRegression(C=0.5, class_weight='balanced', max_iter=800, penalty='l1',\n",
      "                   solver='liblinear')\n",
      "Best score:  0.5230133930741954\n"
     ]
    }
   ],
   "source": [
    "print(\"Best params: \", lm_grid_fine.best_params_)\n",
    "print(\"Best estimator: \", lm_grid_fine.best_estimator_)\n",
    "print(\"Best score: \", lm_grid_fine.best_score_)"
   ]
  },
  {
   "cell_type": "code",
   "execution_count": 43,
   "id": "9399ec01-b43e-4c15-b646-d43159911572",
   "metadata": {
    "collapsed": true,
    "jupyter": {
     "outputs_hidden": true
    },
    "tags": []
   },
   "outputs": [
    {
     "data": {
      "text/plain": [
       "{'mean_fit_time': array([0.78150511, 0.28092947, 0.77226014, 0.28193016, 0.80525899,\n",
       "        0.28154626, 0.82956805, 0.31962395, 0.75516605, 0.31654005,\n",
       "        0.76200194, 0.28230262, 0.75455084, 0.27987251, 0.74600191,\n",
       "        0.27823009, 0.79374371, 0.28459492, 0.80772796, 0.28062263,\n",
       "        0.70503817, 0.27847047, 0.74061437, 0.28133163, 0.82279572,\n",
       "        0.27622647, 0.72681241, 0.28128719, 0.77765102, 0.28145709,\n",
       "        0.78350768, 0.28187785, 0.78467283, 0.28288684, 0.78080359,\n",
       "        0.29013782, 0.75590677, 0.28147302, 0.83336964, 0.27935781,\n",
       "        0.78567815, 0.2791863 , 0.79221597, 0.27802806, 0.66108599,\n",
       "        0.28505306, 0.746171  , 0.27838755, 0.82741165, 0.27820463,\n",
       "        0.76875334, 0.28470755, 0.83323588, 0.28356557, 0.60105934,\n",
       "        0.28730412, 0.69245715, 0.29020109, 0.8063026 , 0.28504543,\n",
       "        0.66911702, 0.28433886, 0.79443188, 0.28420014, 0.74921484,\n",
       "        0.28134675, 0.78578477, 0.27763724, 0.76621356, 0.27788401,\n",
       "        0.804738  , 0.28155899, 0.80536523, 0.28156567, 0.79740701,\n",
       "        0.27638817, 0.8218504 , 0.28012252, 0.80731835, 0.28180809,\n",
       "        0.78370461, 0.2838974 , 0.84191904, 0.27758045]),\n",
       " 'std_fit_time': array([0.02161512, 0.00642949, 0.05114483, 0.00720457, 0.06151615,\n",
       "        0.00731569, 0.06957042, 0.01270125, 0.09905914, 0.01441132,\n",
       "        0.03698286, 0.0092786 , 0.0618272 , 0.00874448, 0.14858392,\n",
       "        0.00713131, 0.07583   , 0.00127452, 0.03326716, 0.00686671,\n",
       "        0.13349942, 0.00776776, 0.05593296, 0.00720999, 0.04487722,\n",
       "        0.01009132, 0.12904234, 0.00623978, 0.0602499 , 0.00754018,\n",
       "        0.06407929, 0.00759634, 0.08151951, 0.00814837, 0.12578267,\n",
       "        0.02721845, 0.06426225, 0.00814771, 0.04799492, 0.00813217,\n",
       "        0.04632334, 0.00737669, 0.05477485, 0.00885165, 0.20094086,\n",
       "        0.00101226, 0.0914522 , 0.00751577, 0.03543725, 0.00764032,\n",
       "        0.1083674 , 0.00342394, 0.05548356, 0.00664928, 0.19934485,\n",
       "        0.01414349, 0.11588243, 0.00390346, 0.02638069, 0.00882673,\n",
       "        0.16524461, 0.00728715, 0.05025629, 0.00124091, 0.07504267,\n",
       "        0.00444595, 0.05037176, 0.00752729, 0.12951097, 0.00798942,\n",
       "        0.04606217, 0.00789942, 0.03751332, 0.00391925, 0.09240275,\n",
       "        0.00821125, 0.06914356, 0.00841028, 0.12383084, 0.00713049,\n",
       "        0.03864406, 0.00098761, 0.0520549 , 0.00717168]),\n",
       " 'mean_score_time': array([0.01562438, 0.01542249, 0.01602716, 0.01529584, 0.01557379,\n",
       "        0.01529713, 0.01581774, 0.0157692 , 0.01609278, 0.01627607,\n",
       "        0.01537824, 0.01588597, 0.01556363, 0.01564116, 0.01562586,\n",
       "        0.01547356, 0.01542706, 0.01579432, 0.01545172, 0.01567197,\n",
       "        0.01568098, 0.01566639, 0.01586123, 0.01538248, 0.01552334,\n",
       "        0.01545553, 0.01586185, 0.01561899, 0.01542869, 0.01556792,\n",
       "        0.01566834, 0.01550202, 0.01510696, 0.01505971, 0.01566739,\n",
       "        0.01507063, 0.0156034 , 0.01539397, 0.01512599, 0.01557178,\n",
       "        0.01523376, 0.01539302, 0.01579661, 0.0163187 , 0.01550097,\n",
       "        0.01577654, 0.01543198, 0.01643519, 0.01527934, 0.01586461,\n",
       "        0.015696  , 0.01590199, 0.01541486, 0.01553292, 0.01561241,\n",
       "        0.01593513, 0.01581364, 0.01547723, 0.01579461, 0.01522231,\n",
       "        0.01545863, 0.01534061, 0.01619964, 0.01539421, 0.01548252,\n",
       "        0.01560345, 0.01565299, 0.01530843, 0.01593256, 0.01550417,\n",
       "        0.01559873, 0.01564164, 0.01533265, 0.01580954, 0.01546311,\n",
       "        0.01535053, 0.01569061, 0.01556392, 0.01587954, 0.01577811,\n",
       "        0.01589017, 0.01591825, 0.0155426 , 0.01603193]),\n",
       " 'std_score_time': array([0.00036583, 0.00043288, 0.00081513, 0.00053771, 0.00031094,\n",
       "        0.00056522, 0.00088676, 0.00061643, 0.00078905, 0.00119203,\n",
       "        0.00061204, 0.00056655, 0.00056813, 0.00107947, 0.00045357,\n",
       "        0.00042131, 0.00033696, 0.00027302, 0.000513  , 0.0005669 ,\n",
       "        0.00046742, 0.00072634, 0.00025039, 0.00051157, 0.00040935,\n",
       "        0.00030547, 0.0006091 , 0.00041178, 0.0004543 , 0.0004974 ,\n",
       "        0.000666  , 0.00038599, 0.00012669, 0.00028011, 0.00038082,\n",
       "        0.00031849, 0.00045076, 0.00045808, 0.00051692, 0.00044634,\n",
       "        0.0004553 , 0.0009368 , 0.00041532, 0.00085223, 0.00057525,\n",
       "        0.00022033, 0.00058891, 0.00134415, 0.0004196 , 0.00020259,\n",
       "        0.00034243, 0.00036378, 0.00028387, 0.00048207, 0.00054186,\n",
       "        0.00074639, 0.00111015, 0.00077742, 0.00077362, 0.00035384,\n",
       "        0.00059247, 0.0005216 , 0.00097038, 0.00030776, 0.00055932,\n",
       "        0.00040803, 0.00044655, 0.00035757, 0.00016154, 0.00045642,\n",
       "        0.00034732, 0.00047679, 0.00055503, 0.00018571, 0.00043505,\n",
       "        0.00036831, 0.00055521, 0.00036065, 0.00015436, 0.00033024,\n",
       "        0.00026936, 0.00072182, 0.00032406, 0.00026782]),\n",
       " 'param_C': masked_array(data=[0.1, 0.1, 0.1, 0.1, 0.1, 0.1, 0.25, 0.25, 0.25, 0.25,\n",
       "                    0.25, 0.25, 0.5, 0.5, 0.5, 0.5, 0.5, 0.5, 0.75, 0.75,\n",
       "                    0.75, 0.75, 0.75, 0.75, 1, 1, 1, 1, 1, 1, 10, 10, 10,\n",
       "                    10, 10, 10, 25, 25, 25, 25, 25, 25, 50, 50, 50, 50, 50,\n",
       "                    50, 75, 75, 75, 75, 75, 75, 100, 100, 100, 100, 100,\n",
       "                    100, 125, 125, 125, 125, 125, 125, 150, 150, 150, 150,\n",
       "                    150, 150, 200, 200, 200, 200, 200, 200, 250, 250, 250,\n",
       "                    250, 250, 250],\n",
       "              mask=[False, False, False, False, False, False, False, False,\n",
       "                    False, False, False, False, False, False, False, False,\n",
       "                    False, False, False, False, False, False, False, False,\n",
       "                    False, False, False, False, False, False, False, False,\n",
       "                    False, False, False, False, False, False, False, False,\n",
       "                    False, False, False, False, False, False, False, False,\n",
       "                    False, False, False, False, False, False, False, False,\n",
       "                    False, False, False, False, False, False, False, False,\n",
       "                    False, False, False, False, False, False, False, False,\n",
       "                    False, False, False, False, False, False, False, False,\n",
       "                    False, False, False, False],\n",
       "        fill_value='?',\n",
       "             dtype=object),\n",
       " 'param_class_weight': masked_array(data=['balanced', 'balanced', 'balanced', 'balanced',\n",
       "                    'balanced', 'balanced', 'balanced', 'balanced',\n",
       "                    'balanced', 'balanced', 'balanced', 'balanced',\n",
       "                    'balanced', 'balanced', 'balanced', 'balanced',\n",
       "                    'balanced', 'balanced', 'balanced', 'balanced',\n",
       "                    'balanced', 'balanced', 'balanced', 'balanced',\n",
       "                    'balanced', 'balanced', 'balanced', 'balanced',\n",
       "                    'balanced', 'balanced', 'balanced', 'balanced',\n",
       "                    'balanced', 'balanced', 'balanced', 'balanced',\n",
       "                    'balanced', 'balanced', 'balanced', 'balanced',\n",
       "                    'balanced', 'balanced', 'balanced', 'balanced',\n",
       "                    'balanced', 'balanced', 'balanced', 'balanced',\n",
       "                    'balanced', 'balanced', 'balanced', 'balanced',\n",
       "                    'balanced', 'balanced', 'balanced', 'balanced',\n",
       "                    'balanced', 'balanced', 'balanced', 'balanced',\n",
       "                    'balanced', 'balanced', 'balanced', 'balanced',\n",
       "                    'balanced', 'balanced', 'balanced', 'balanced',\n",
       "                    'balanced', 'balanced', 'balanced', 'balanced',\n",
       "                    'balanced', 'balanced', 'balanced', 'balanced',\n",
       "                    'balanced', 'balanced', 'balanced', 'balanced',\n",
       "                    'balanced', 'balanced', 'balanced', 'balanced'],\n",
       "              mask=[False, False, False, False, False, False, False, False,\n",
       "                    False, False, False, False, False, False, False, False,\n",
       "                    False, False, False, False, False, False, False, False,\n",
       "                    False, False, False, False, False, False, False, False,\n",
       "                    False, False, False, False, False, False, False, False,\n",
       "                    False, False, False, False, False, False, False, False,\n",
       "                    False, False, False, False, False, False, False, False,\n",
       "                    False, False, False, False, False, False, False, False,\n",
       "                    False, False, False, False, False, False, False, False,\n",
       "                    False, False, False, False, False, False, False, False,\n",
       "                    False, False, False, False],\n",
       "        fill_value='?',\n",
       "             dtype=object),\n",
       " 'param_max_iter': masked_array(data=[800, 800, 1000, 1000, 1200, 1200, 800, 800, 1000, 1000,\n",
       "                    1200, 1200, 800, 800, 1000, 1000, 1200, 1200, 800, 800,\n",
       "                    1000, 1000, 1200, 1200, 800, 800, 1000, 1000, 1200,\n",
       "                    1200, 800, 800, 1000, 1000, 1200, 1200, 800, 800, 1000,\n",
       "                    1000, 1200, 1200, 800, 800, 1000, 1000, 1200, 1200,\n",
       "                    800, 800, 1000, 1000, 1200, 1200, 800, 800, 1000, 1000,\n",
       "                    1200, 1200, 800, 800, 1000, 1000, 1200, 1200, 800, 800,\n",
       "                    1000, 1000, 1200, 1200, 800, 800, 1000, 1000, 1200,\n",
       "                    1200, 800, 800, 1000, 1000, 1200, 1200],\n",
       "              mask=[False, False, False, False, False, False, False, False,\n",
       "                    False, False, False, False, False, False, False, False,\n",
       "                    False, False, False, False, False, False, False, False,\n",
       "                    False, False, False, False, False, False, False, False,\n",
       "                    False, False, False, False, False, False, False, False,\n",
       "                    False, False, False, False, False, False, False, False,\n",
       "                    False, False, False, False, False, False, False, False,\n",
       "                    False, False, False, False, False, False, False, False,\n",
       "                    False, False, False, False, False, False, False, False,\n",
       "                    False, False, False, False, False, False, False, False,\n",
       "                    False, False, False, False],\n",
       "        fill_value='?',\n",
       "             dtype=object),\n",
       " 'param_penalty': masked_array(data=['l1', 'l2', 'l1', 'l2', 'l1', 'l2', 'l1', 'l2', 'l1',\n",
       "                    'l2', 'l1', 'l2', 'l1', 'l2', 'l1', 'l2', 'l1', 'l2',\n",
       "                    'l1', 'l2', 'l1', 'l2', 'l1', 'l2', 'l1', 'l2', 'l1',\n",
       "                    'l2', 'l1', 'l2', 'l1', 'l2', 'l1', 'l2', 'l1', 'l2',\n",
       "                    'l1', 'l2', 'l1', 'l2', 'l1', 'l2', 'l1', 'l2', 'l1',\n",
       "                    'l2', 'l1', 'l2', 'l1', 'l2', 'l1', 'l2', 'l1', 'l2',\n",
       "                    'l1', 'l2', 'l1', 'l2', 'l1', 'l2', 'l1', 'l2', 'l1',\n",
       "                    'l2', 'l1', 'l2', 'l1', 'l2', 'l1', 'l2', 'l1', 'l2',\n",
       "                    'l1', 'l2', 'l1', 'l2', 'l1', 'l2', 'l1', 'l2', 'l1',\n",
       "                    'l2', 'l1', 'l2'],\n",
       "              mask=[False, False, False, False, False, False, False, False,\n",
       "                    False, False, False, False, False, False, False, False,\n",
       "                    False, False, False, False, False, False, False, False,\n",
       "                    False, False, False, False, False, False, False, False,\n",
       "                    False, False, False, False, False, False, False, False,\n",
       "                    False, False, False, False, False, False, False, False,\n",
       "                    False, False, False, False, False, False, False, False,\n",
       "                    False, False, False, False, False, False, False, False,\n",
       "                    False, False, False, False, False, False, False, False,\n",
       "                    False, False, False, False, False, False, False, False,\n",
       "                    False, False, False, False],\n",
       "        fill_value='?',\n",
       "             dtype=object),\n",
       " 'param_solver': masked_array(data=['liblinear', 'liblinear', 'liblinear', 'liblinear',\n",
       "                    'liblinear', 'liblinear', 'liblinear', 'liblinear',\n",
       "                    'liblinear', 'liblinear', 'liblinear', 'liblinear',\n",
       "                    'liblinear', 'liblinear', 'liblinear', 'liblinear',\n",
       "                    'liblinear', 'liblinear', 'liblinear', 'liblinear',\n",
       "                    'liblinear', 'liblinear', 'liblinear', 'liblinear',\n",
       "                    'liblinear', 'liblinear', 'liblinear', 'liblinear',\n",
       "                    'liblinear', 'liblinear', 'liblinear', 'liblinear',\n",
       "                    'liblinear', 'liblinear', 'liblinear', 'liblinear',\n",
       "                    'liblinear', 'liblinear', 'liblinear', 'liblinear',\n",
       "                    'liblinear', 'liblinear', 'liblinear', 'liblinear',\n",
       "                    'liblinear', 'liblinear', 'liblinear', 'liblinear',\n",
       "                    'liblinear', 'liblinear', 'liblinear', 'liblinear',\n",
       "                    'liblinear', 'liblinear', 'liblinear', 'liblinear',\n",
       "                    'liblinear', 'liblinear', 'liblinear', 'liblinear',\n",
       "                    'liblinear', 'liblinear', 'liblinear', 'liblinear',\n",
       "                    'liblinear', 'liblinear', 'liblinear', 'liblinear',\n",
       "                    'liblinear', 'liblinear', 'liblinear', 'liblinear',\n",
       "                    'liblinear', 'liblinear', 'liblinear', 'liblinear',\n",
       "                    'liblinear', 'liblinear', 'liblinear', 'liblinear',\n",
       "                    'liblinear', 'liblinear', 'liblinear', 'liblinear'],\n",
       "              mask=[False, False, False, False, False, False, False, False,\n",
       "                    False, False, False, False, False, False, False, False,\n",
       "                    False, False, False, False, False, False, False, False,\n",
       "                    False, False, False, False, False, False, False, False,\n",
       "                    False, False, False, False, False, False, False, False,\n",
       "                    False, False, False, False, False, False, False, False,\n",
       "                    False, False, False, False, False, False, False, False,\n",
       "                    False, False, False, False, False, False, False, False,\n",
       "                    False, False, False, False, False, False, False, False,\n",
       "                    False, False, False, False, False, False, False, False,\n",
       "                    False, False, False, False],\n",
       "        fill_value='?',\n",
       "             dtype=object),\n",
       " 'params': [{'C': 0.1,\n",
       "   'class_weight': 'balanced',\n",
       "   'max_iter': 800,\n",
       "   'penalty': 'l1',\n",
       "   'solver': 'liblinear'},\n",
       "  {'C': 0.1,\n",
       "   'class_weight': 'balanced',\n",
       "   'max_iter': 800,\n",
       "   'penalty': 'l2',\n",
       "   'solver': 'liblinear'},\n",
       "  {'C': 0.1,\n",
       "   'class_weight': 'balanced',\n",
       "   'max_iter': 1000,\n",
       "   'penalty': 'l1',\n",
       "   'solver': 'liblinear'},\n",
       "  {'C': 0.1,\n",
       "   'class_weight': 'balanced',\n",
       "   'max_iter': 1000,\n",
       "   'penalty': 'l2',\n",
       "   'solver': 'liblinear'},\n",
       "  {'C': 0.1,\n",
       "   'class_weight': 'balanced',\n",
       "   'max_iter': 1200,\n",
       "   'penalty': 'l1',\n",
       "   'solver': 'liblinear'},\n",
       "  {'C': 0.1,\n",
       "   'class_weight': 'balanced',\n",
       "   'max_iter': 1200,\n",
       "   'penalty': 'l2',\n",
       "   'solver': 'liblinear'},\n",
       "  {'C': 0.25,\n",
       "   'class_weight': 'balanced',\n",
       "   'max_iter': 800,\n",
       "   'penalty': 'l1',\n",
       "   'solver': 'liblinear'},\n",
       "  {'C': 0.25,\n",
       "   'class_weight': 'balanced',\n",
       "   'max_iter': 800,\n",
       "   'penalty': 'l2',\n",
       "   'solver': 'liblinear'},\n",
       "  {'C': 0.25,\n",
       "   'class_weight': 'balanced',\n",
       "   'max_iter': 1000,\n",
       "   'penalty': 'l1',\n",
       "   'solver': 'liblinear'},\n",
       "  {'C': 0.25,\n",
       "   'class_weight': 'balanced',\n",
       "   'max_iter': 1000,\n",
       "   'penalty': 'l2',\n",
       "   'solver': 'liblinear'},\n",
       "  {'C': 0.25,\n",
       "   'class_weight': 'balanced',\n",
       "   'max_iter': 1200,\n",
       "   'penalty': 'l1',\n",
       "   'solver': 'liblinear'},\n",
       "  {'C': 0.25,\n",
       "   'class_weight': 'balanced',\n",
       "   'max_iter': 1200,\n",
       "   'penalty': 'l2',\n",
       "   'solver': 'liblinear'},\n",
       "  {'C': 0.5,\n",
       "   'class_weight': 'balanced',\n",
       "   'max_iter': 800,\n",
       "   'penalty': 'l1',\n",
       "   'solver': 'liblinear'},\n",
       "  {'C': 0.5,\n",
       "   'class_weight': 'balanced',\n",
       "   'max_iter': 800,\n",
       "   'penalty': 'l2',\n",
       "   'solver': 'liblinear'},\n",
       "  {'C': 0.5,\n",
       "   'class_weight': 'balanced',\n",
       "   'max_iter': 1000,\n",
       "   'penalty': 'l1',\n",
       "   'solver': 'liblinear'},\n",
       "  {'C': 0.5,\n",
       "   'class_weight': 'balanced',\n",
       "   'max_iter': 1000,\n",
       "   'penalty': 'l2',\n",
       "   'solver': 'liblinear'},\n",
       "  {'C': 0.5,\n",
       "   'class_weight': 'balanced',\n",
       "   'max_iter': 1200,\n",
       "   'penalty': 'l1',\n",
       "   'solver': 'liblinear'},\n",
       "  {'C': 0.5,\n",
       "   'class_weight': 'balanced',\n",
       "   'max_iter': 1200,\n",
       "   'penalty': 'l2',\n",
       "   'solver': 'liblinear'},\n",
       "  {'C': 0.75,\n",
       "   'class_weight': 'balanced',\n",
       "   'max_iter': 800,\n",
       "   'penalty': 'l1',\n",
       "   'solver': 'liblinear'},\n",
       "  {'C': 0.75,\n",
       "   'class_weight': 'balanced',\n",
       "   'max_iter': 800,\n",
       "   'penalty': 'l2',\n",
       "   'solver': 'liblinear'},\n",
       "  {'C': 0.75,\n",
       "   'class_weight': 'balanced',\n",
       "   'max_iter': 1000,\n",
       "   'penalty': 'l1',\n",
       "   'solver': 'liblinear'},\n",
       "  {'C': 0.75,\n",
       "   'class_weight': 'balanced',\n",
       "   'max_iter': 1000,\n",
       "   'penalty': 'l2',\n",
       "   'solver': 'liblinear'},\n",
       "  {'C': 0.75,\n",
       "   'class_weight': 'balanced',\n",
       "   'max_iter': 1200,\n",
       "   'penalty': 'l1',\n",
       "   'solver': 'liblinear'},\n",
       "  {'C': 0.75,\n",
       "   'class_weight': 'balanced',\n",
       "   'max_iter': 1200,\n",
       "   'penalty': 'l2',\n",
       "   'solver': 'liblinear'},\n",
       "  {'C': 1,\n",
       "   'class_weight': 'balanced',\n",
       "   'max_iter': 800,\n",
       "   'penalty': 'l1',\n",
       "   'solver': 'liblinear'},\n",
       "  {'C': 1,\n",
       "   'class_weight': 'balanced',\n",
       "   'max_iter': 800,\n",
       "   'penalty': 'l2',\n",
       "   'solver': 'liblinear'},\n",
       "  {'C': 1,\n",
       "   'class_weight': 'balanced',\n",
       "   'max_iter': 1000,\n",
       "   'penalty': 'l1',\n",
       "   'solver': 'liblinear'},\n",
       "  {'C': 1,\n",
       "   'class_weight': 'balanced',\n",
       "   'max_iter': 1000,\n",
       "   'penalty': 'l2',\n",
       "   'solver': 'liblinear'},\n",
       "  {'C': 1,\n",
       "   'class_weight': 'balanced',\n",
       "   'max_iter': 1200,\n",
       "   'penalty': 'l1',\n",
       "   'solver': 'liblinear'},\n",
       "  {'C': 1,\n",
       "   'class_weight': 'balanced',\n",
       "   'max_iter': 1200,\n",
       "   'penalty': 'l2',\n",
       "   'solver': 'liblinear'},\n",
       "  {'C': 10,\n",
       "   'class_weight': 'balanced',\n",
       "   'max_iter': 800,\n",
       "   'penalty': 'l1',\n",
       "   'solver': 'liblinear'},\n",
       "  {'C': 10,\n",
       "   'class_weight': 'balanced',\n",
       "   'max_iter': 800,\n",
       "   'penalty': 'l2',\n",
       "   'solver': 'liblinear'},\n",
       "  {'C': 10,\n",
       "   'class_weight': 'balanced',\n",
       "   'max_iter': 1000,\n",
       "   'penalty': 'l1',\n",
       "   'solver': 'liblinear'},\n",
       "  {'C': 10,\n",
       "   'class_weight': 'balanced',\n",
       "   'max_iter': 1000,\n",
       "   'penalty': 'l2',\n",
       "   'solver': 'liblinear'},\n",
       "  {'C': 10,\n",
       "   'class_weight': 'balanced',\n",
       "   'max_iter': 1200,\n",
       "   'penalty': 'l1',\n",
       "   'solver': 'liblinear'},\n",
       "  {'C': 10,\n",
       "   'class_weight': 'balanced',\n",
       "   'max_iter': 1200,\n",
       "   'penalty': 'l2',\n",
       "   'solver': 'liblinear'},\n",
       "  {'C': 25,\n",
       "   'class_weight': 'balanced',\n",
       "   'max_iter': 800,\n",
       "   'penalty': 'l1',\n",
       "   'solver': 'liblinear'},\n",
       "  {'C': 25,\n",
       "   'class_weight': 'balanced',\n",
       "   'max_iter': 800,\n",
       "   'penalty': 'l2',\n",
       "   'solver': 'liblinear'},\n",
       "  {'C': 25,\n",
       "   'class_weight': 'balanced',\n",
       "   'max_iter': 1000,\n",
       "   'penalty': 'l1',\n",
       "   'solver': 'liblinear'},\n",
       "  {'C': 25,\n",
       "   'class_weight': 'balanced',\n",
       "   'max_iter': 1000,\n",
       "   'penalty': 'l2',\n",
       "   'solver': 'liblinear'},\n",
       "  {'C': 25,\n",
       "   'class_weight': 'balanced',\n",
       "   'max_iter': 1200,\n",
       "   'penalty': 'l1',\n",
       "   'solver': 'liblinear'},\n",
       "  {'C': 25,\n",
       "   'class_weight': 'balanced',\n",
       "   'max_iter': 1200,\n",
       "   'penalty': 'l2',\n",
       "   'solver': 'liblinear'},\n",
       "  {'C': 50,\n",
       "   'class_weight': 'balanced',\n",
       "   'max_iter': 800,\n",
       "   'penalty': 'l1',\n",
       "   'solver': 'liblinear'},\n",
       "  {'C': 50,\n",
       "   'class_weight': 'balanced',\n",
       "   'max_iter': 800,\n",
       "   'penalty': 'l2',\n",
       "   'solver': 'liblinear'},\n",
       "  {'C': 50,\n",
       "   'class_weight': 'balanced',\n",
       "   'max_iter': 1000,\n",
       "   'penalty': 'l1',\n",
       "   'solver': 'liblinear'},\n",
       "  {'C': 50,\n",
       "   'class_weight': 'balanced',\n",
       "   'max_iter': 1000,\n",
       "   'penalty': 'l2',\n",
       "   'solver': 'liblinear'},\n",
       "  {'C': 50,\n",
       "   'class_weight': 'balanced',\n",
       "   'max_iter': 1200,\n",
       "   'penalty': 'l1',\n",
       "   'solver': 'liblinear'},\n",
       "  {'C': 50,\n",
       "   'class_weight': 'balanced',\n",
       "   'max_iter': 1200,\n",
       "   'penalty': 'l2',\n",
       "   'solver': 'liblinear'},\n",
       "  {'C': 75,\n",
       "   'class_weight': 'balanced',\n",
       "   'max_iter': 800,\n",
       "   'penalty': 'l1',\n",
       "   'solver': 'liblinear'},\n",
       "  {'C': 75,\n",
       "   'class_weight': 'balanced',\n",
       "   'max_iter': 800,\n",
       "   'penalty': 'l2',\n",
       "   'solver': 'liblinear'},\n",
       "  {'C': 75,\n",
       "   'class_weight': 'balanced',\n",
       "   'max_iter': 1000,\n",
       "   'penalty': 'l1',\n",
       "   'solver': 'liblinear'},\n",
       "  {'C': 75,\n",
       "   'class_weight': 'balanced',\n",
       "   'max_iter': 1000,\n",
       "   'penalty': 'l2',\n",
       "   'solver': 'liblinear'},\n",
       "  {'C': 75,\n",
       "   'class_weight': 'balanced',\n",
       "   'max_iter': 1200,\n",
       "   'penalty': 'l1',\n",
       "   'solver': 'liblinear'},\n",
       "  {'C': 75,\n",
       "   'class_weight': 'balanced',\n",
       "   'max_iter': 1200,\n",
       "   'penalty': 'l2',\n",
       "   'solver': 'liblinear'},\n",
       "  {'C': 100,\n",
       "   'class_weight': 'balanced',\n",
       "   'max_iter': 800,\n",
       "   'penalty': 'l1',\n",
       "   'solver': 'liblinear'},\n",
       "  {'C': 100,\n",
       "   'class_weight': 'balanced',\n",
       "   'max_iter': 800,\n",
       "   'penalty': 'l2',\n",
       "   'solver': 'liblinear'},\n",
       "  {'C': 100,\n",
       "   'class_weight': 'balanced',\n",
       "   'max_iter': 1000,\n",
       "   'penalty': 'l1',\n",
       "   'solver': 'liblinear'},\n",
       "  {'C': 100,\n",
       "   'class_weight': 'balanced',\n",
       "   'max_iter': 1000,\n",
       "   'penalty': 'l2',\n",
       "   'solver': 'liblinear'},\n",
       "  {'C': 100,\n",
       "   'class_weight': 'balanced',\n",
       "   'max_iter': 1200,\n",
       "   'penalty': 'l1',\n",
       "   'solver': 'liblinear'},\n",
       "  {'C': 100,\n",
       "   'class_weight': 'balanced',\n",
       "   'max_iter': 1200,\n",
       "   'penalty': 'l2',\n",
       "   'solver': 'liblinear'},\n",
       "  {'C': 125,\n",
       "   'class_weight': 'balanced',\n",
       "   'max_iter': 800,\n",
       "   'penalty': 'l1',\n",
       "   'solver': 'liblinear'},\n",
       "  {'C': 125,\n",
       "   'class_weight': 'balanced',\n",
       "   'max_iter': 800,\n",
       "   'penalty': 'l2',\n",
       "   'solver': 'liblinear'},\n",
       "  {'C': 125,\n",
       "   'class_weight': 'balanced',\n",
       "   'max_iter': 1000,\n",
       "   'penalty': 'l1',\n",
       "   'solver': 'liblinear'},\n",
       "  {'C': 125,\n",
       "   'class_weight': 'balanced',\n",
       "   'max_iter': 1000,\n",
       "   'penalty': 'l2',\n",
       "   'solver': 'liblinear'},\n",
       "  {'C': 125,\n",
       "   'class_weight': 'balanced',\n",
       "   'max_iter': 1200,\n",
       "   'penalty': 'l1',\n",
       "   'solver': 'liblinear'},\n",
       "  {'C': 125,\n",
       "   'class_weight': 'balanced',\n",
       "   'max_iter': 1200,\n",
       "   'penalty': 'l2',\n",
       "   'solver': 'liblinear'},\n",
       "  {'C': 150,\n",
       "   'class_weight': 'balanced',\n",
       "   'max_iter': 800,\n",
       "   'penalty': 'l1',\n",
       "   'solver': 'liblinear'},\n",
       "  {'C': 150,\n",
       "   'class_weight': 'balanced',\n",
       "   'max_iter': 800,\n",
       "   'penalty': 'l2',\n",
       "   'solver': 'liblinear'},\n",
       "  {'C': 150,\n",
       "   'class_weight': 'balanced',\n",
       "   'max_iter': 1000,\n",
       "   'penalty': 'l1',\n",
       "   'solver': 'liblinear'},\n",
       "  {'C': 150,\n",
       "   'class_weight': 'balanced',\n",
       "   'max_iter': 1000,\n",
       "   'penalty': 'l2',\n",
       "   'solver': 'liblinear'},\n",
       "  {'C': 150,\n",
       "   'class_weight': 'balanced',\n",
       "   'max_iter': 1200,\n",
       "   'penalty': 'l1',\n",
       "   'solver': 'liblinear'},\n",
       "  {'C': 150,\n",
       "   'class_weight': 'balanced',\n",
       "   'max_iter': 1200,\n",
       "   'penalty': 'l2',\n",
       "   'solver': 'liblinear'},\n",
       "  {'C': 200,\n",
       "   'class_weight': 'balanced',\n",
       "   'max_iter': 800,\n",
       "   'penalty': 'l1',\n",
       "   'solver': 'liblinear'},\n",
       "  {'C': 200,\n",
       "   'class_weight': 'balanced',\n",
       "   'max_iter': 800,\n",
       "   'penalty': 'l2',\n",
       "   'solver': 'liblinear'},\n",
       "  {'C': 200,\n",
       "   'class_weight': 'balanced',\n",
       "   'max_iter': 1000,\n",
       "   'penalty': 'l1',\n",
       "   'solver': 'liblinear'},\n",
       "  {'C': 200,\n",
       "   'class_weight': 'balanced',\n",
       "   'max_iter': 1000,\n",
       "   'penalty': 'l2',\n",
       "   'solver': 'liblinear'},\n",
       "  {'C': 200,\n",
       "   'class_weight': 'balanced',\n",
       "   'max_iter': 1200,\n",
       "   'penalty': 'l1',\n",
       "   'solver': 'liblinear'},\n",
       "  {'C': 200,\n",
       "   'class_weight': 'balanced',\n",
       "   'max_iter': 1200,\n",
       "   'penalty': 'l2',\n",
       "   'solver': 'liblinear'},\n",
       "  {'C': 250,\n",
       "   'class_weight': 'balanced',\n",
       "   'max_iter': 800,\n",
       "   'penalty': 'l1',\n",
       "   'solver': 'liblinear'},\n",
       "  {'C': 250,\n",
       "   'class_weight': 'balanced',\n",
       "   'max_iter': 800,\n",
       "   'penalty': 'l2',\n",
       "   'solver': 'liblinear'},\n",
       "  {'C': 250,\n",
       "   'class_weight': 'balanced',\n",
       "   'max_iter': 1000,\n",
       "   'penalty': 'l1',\n",
       "   'solver': 'liblinear'},\n",
       "  {'C': 250,\n",
       "   'class_weight': 'balanced',\n",
       "   'max_iter': 1000,\n",
       "   'penalty': 'l2',\n",
       "   'solver': 'liblinear'},\n",
       "  {'C': 250,\n",
       "   'class_weight': 'balanced',\n",
       "   'max_iter': 1200,\n",
       "   'penalty': 'l1',\n",
       "   'solver': 'liblinear'},\n",
       "  {'C': 250,\n",
       "   'class_weight': 'balanced',\n",
       "   'max_iter': 1200,\n",
       "   'penalty': 'l2',\n",
       "   'solver': 'liblinear'}],\n",
       " 'split0_test_score': array([0.52626053, 0.52668189, 0.52626053, 0.52668189, 0.52627435,\n",
       "        0.52668189, 0.52652301, 0.52666807, 0.52652301, 0.52666807,\n",
       "        0.52652301, 0.52666807, 0.52665424, 0.52666807, 0.52665424,\n",
       "        0.52666807, 0.52665424, 0.52666807, 0.52665424, 0.52666807,\n",
       "        0.52665424, 0.52666807, 0.52665424, 0.52666807, 0.52665424,\n",
       "        0.52666807, 0.52665424, 0.52666807, 0.52665424, 0.52666807,\n",
       "        0.52666807, 0.52665424, 0.52665424, 0.52665424, 0.52666807,\n",
       "        0.52665424, 0.52666807, 0.52665424, 0.52665424, 0.52665424,\n",
       "        0.52666807, 0.52665424, 0.52665424, 0.52665424, 0.52666807,\n",
       "        0.52665424, 0.52666807, 0.52665424, 0.52666807, 0.52665424,\n",
       "        0.52665424, 0.52665424, 0.52666807, 0.52665424, 0.52665424,\n",
       "        0.52665424, 0.52666807, 0.52665424, 0.52666807, 0.52665424,\n",
       "        0.52665424, 0.52665424, 0.52665424, 0.52665424, 0.52666807,\n",
       "        0.52665424, 0.52666807, 0.52665424, 0.52666807, 0.52665424,\n",
       "        0.52666807, 0.52665424, 0.52665424, 0.52665424, 0.52666807,\n",
       "        0.52665424, 0.52666807, 0.52665424, 0.52666807, 0.52665424,\n",
       "        0.52666807, 0.52665424, 0.52665424, 0.52665424]),\n",
       " 'split1_test_score': array([0.52572238, 0.52572942, 0.52573616, 0.52572942, 0.52572238,\n",
       "        0.52572942, 0.52563968, 0.52586049, 0.52563968, 0.52586049,\n",
       "        0.52563968, 0.52586049, 0.52586049, 0.52597777, 0.52586049,\n",
       "        0.52597777, 0.52586049, 0.52597777, 0.52587427, 0.52597777,\n",
       "        0.52587427, 0.52597777, 0.52599156, 0.52597777, 0.52587427,\n",
       "        0.52597777, 0.52587427, 0.52597777, 0.52587427, 0.52597777,\n",
       "        0.52586049, 0.52597777, 0.52597777, 0.52597777, 0.52599156,\n",
       "        0.52597777, 0.52597777, 0.52597777, 0.52597777, 0.52597777,\n",
       "        0.52599156, 0.52597777, 0.52597777, 0.52597777, 0.52599156,\n",
       "        0.52597777, 0.52599156, 0.52597777, 0.52599156, 0.52597777,\n",
       "        0.52597777, 0.52597777, 0.52597777, 0.52597777, 0.52597777,\n",
       "        0.52597777, 0.52597777, 0.52597777, 0.52597777, 0.52597777,\n",
       "        0.52597777, 0.52597777, 0.52597777, 0.52597777, 0.52586049,\n",
       "        0.52597777, 0.52599156, 0.52597777, 0.52597777, 0.52597777,\n",
       "        0.52599156, 0.52597777, 0.52597777, 0.52597777, 0.52597777,\n",
       "        0.52597777, 0.52597777, 0.52597777, 0.52597777, 0.52597777,\n",
       "        0.52597777, 0.52597777, 0.52597777, 0.52597777]),\n",
       " 'split2_test_score': array([0.5268679 , 0.52670215, 0.5268679 , 0.52670215, 0.5268679 ,\n",
       "        0.52670215, 0.52687467, 0.52670215, 0.52687467, 0.52670215,\n",
       "        0.52691612, 0.52670215, 0.52687467, 0.52670215, 0.52684705,\n",
       "        0.52670215, 0.52684705, 0.52670215, 0.52674358, 0.52671596,\n",
       "        0.52672977, 0.52671596, 0.52672977, 0.52671596, 0.52672977,\n",
       "        0.52671596, 0.52672977, 0.52671596, 0.52672977, 0.52671596,\n",
       "        0.52671596, 0.52671596, 0.52671596, 0.52671596, 0.52671596,\n",
       "        0.52671596, 0.52670215, 0.52671596, 0.52670215, 0.52671596,\n",
       "        0.52670215, 0.52671596, 0.52670215, 0.52671596, 0.52670215,\n",
       "        0.52671596, 0.52670215, 0.52671596, 0.52671596, 0.52671596,\n",
       "        0.52671596, 0.52671596, 0.52671596, 0.52671596, 0.52671596,\n",
       "        0.52671596, 0.52670215, 0.52671596, 0.52670215, 0.52671596,\n",
       "        0.52671596, 0.52671596, 0.52671596, 0.52671596, 0.52671596,\n",
       "        0.52671596, 0.52670215, 0.52671596, 0.52670215, 0.52671596,\n",
       "        0.52671596, 0.52671596, 0.52671596, 0.52671596, 0.52671596,\n",
       "        0.52671596, 0.52670215, 0.52671596, 0.52670215, 0.52671596,\n",
       "        0.52670215, 0.52671596, 0.52670215, 0.52671596]),\n",
       " 'split3_test_score': array([0.51447199, 0.5145358 , 0.51449904, 0.5145358 , 0.51447199,\n",
       "        0.5145358 , 0.5145358 , 0.5145358 , 0.5145358 , 0.5145358 ,\n",
       "        0.5145358 , 0.5145358 , 0.51454933, 0.51454933, 0.51454933,\n",
       "        0.51454933, 0.51454933, 0.51454933, 0.51454933, 0.51456285,\n",
       "        0.51456285, 0.51456285, 0.51454933, 0.51456285, 0.51454933,\n",
       "        0.51456285, 0.51456285, 0.51456285, 0.51454933, 0.51456285,\n",
       "        0.5145358 , 0.51457638, 0.51457638, 0.51457638, 0.5145358 ,\n",
       "        0.51457638, 0.51457638, 0.51457638, 0.51457638, 0.51457638,\n",
       "        0.5145358 , 0.51457638, 0.51457638, 0.51457638, 0.51454933,\n",
       "        0.51457638, 0.51454933, 0.51457638, 0.5145358 , 0.51457638,\n",
       "        0.51454933, 0.51457638, 0.51457638, 0.51457638, 0.51457638,\n",
       "        0.51457638, 0.51454933, 0.51457638, 0.51457638, 0.51457638,\n",
       "        0.51454933, 0.51457638, 0.51454933, 0.51457638, 0.5145358 ,\n",
       "        0.51457638, 0.51457638, 0.51457638, 0.51457638, 0.51457638,\n",
       "        0.51457638, 0.51457638, 0.51454933, 0.51457638, 0.51454933,\n",
       "        0.51457638, 0.51457638, 0.51457638, 0.51457638, 0.51457638,\n",
       "        0.51457638, 0.51457638, 0.51454933, 0.51457638]),\n",
       " 'split4_test_score': array([0.52142576, 0.52099717, 0.52142576, 0.52099717, 0.52142576,\n",
       "        0.52099717, 0.52111458, 0.52098351, 0.52112824, 0.52098351,\n",
       "        0.52111458, 0.52098351, 0.52112824, 0.52098351, 0.52112824,\n",
       "        0.52098351, 0.52112824, 0.52098351, 0.52099717, 0.52099717,\n",
       "        0.52099717, 0.52099717, 0.52099717, 0.52099717, 0.52099717,\n",
       "        0.52099717, 0.52099717, 0.52099717, 0.52110092, 0.52099717,\n",
       "        0.52098351, 0.52099717, 0.52099717, 0.52099717, 0.52098351,\n",
       "        0.52099717, 0.52099717, 0.52099717, 0.52099717, 0.52099717,\n",
       "        0.52098351, 0.52099717, 0.52099717, 0.52099717, 0.52099717,\n",
       "        0.52099717, 0.52098351, 0.52099717, 0.52098351, 0.52099717,\n",
       "        0.52099717, 0.52099717, 0.52099717, 0.52099717, 0.52099717,\n",
       "        0.52099717, 0.52099717, 0.52099717, 0.52098351, 0.52099717,\n",
       "        0.52098351, 0.52099717, 0.52099717, 0.52099717, 0.52099717,\n",
       "        0.52099717, 0.52098351, 0.52099717, 0.52098351, 0.52099717,\n",
       "        0.52099717, 0.52099717, 0.52098351, 0.52099717, 0.52099717,\n",
       "        0.52099717, 0.52099717, 0.52099717, 0.52098351, 0.52099717,\n",
       "        0.52099717, 0.52099717, 0.52099717, 0.52099717]),\n",
       " 'mean_test_score': array([0.52294971, 0.52292928, 0.52295788, 0.52292928, 0.52295248,\n",
       "        0.52292928, 0.52293755, 0.52295   , 0.52294028, 0.52295   ,\n",
       "        0.52294584, 0.52295   , 0.52301339, 0.52297616, 0.52300787,\n",
       "        0.52297616, 0.52300787, 0.52297616, 0.52296372, 0.52298436,\n",
       "        0.52296366, 0.52298436, 0.52298441, 0.52298436, 0.52296096,\n",
       "        0.52298436, 0.52296366, 0.52298436, 0.5229817 , 0.52298436,\n",
       "        0.52295276, 0.5229843 , 0.5229843 , 0.5229843 , 0.52297898,\n",
       "        0.5229843 , 0.52298431, 0.5229843 , 0.52298154, 0.5229843 ,\n",
       "        0.52297622, 0.5229843 , 0.52298154, 0.5229843 , 0.52298165,\n",
       "        0.5229843 , 0.52297892, 0.5229843 , 0.52297898, 0.5229843 ,\n",
       "        0.52297889, 0.5229843 , 0.52298707, 0.5229843 , 0.5229843 ,\n",
       "        0.5229843 , 0.5229789 , 0.5229843 , 0.52298157, 0.5229843 ,\n",
       "        0.52297616, 0.5229843 , 0.52297889, 0.5229843 , 0.5229555 ,\n",
       "        0.5229843 , 0.52298433, 0.5229843 , 0.52298157, 0.5229843 ,\n",
       "        0.52298983, 0.5229843 , 0.52297616, 0.5229843 , 0.52298166,\n",
       "        0.5229843 , 0.52298431, 0.5229843 , 0.52298157, 0.5229843 ,\n",
       "        0.52298431, 0.5229843 , 0.52297613, 0.5229843 ]),\n",
       " 'std_test_score': array([0.00465179, 0.00469768, 0.00464358, 0.00469768, 0.00465376,\n",
       "        0.00469768, 0.00468125, 0.00471252, 0.00468019, 0.00471252,\n",
       "        0.00468825, 0.00471252, 0.00472156, 0.00472239, 0.00471705,\n",
       "        0.00472239, 0.00471705, 0.00472239, 0.00471271, 0.0047186 ,\n",
       "        0.00470566, 0.0047186 , 0.00472521, 0.0047186 , 0.00471049,\n",
       "        0.0047186 , 0.00470566, 0.0047186 , 0.00470202, 0.0047186 ,\n",
       "        0.00471473, 0.00471161, 0.00471161, 0.00471161, 0.00473116,\n",
       "        0.00471161, 0.00471159, 0.00471161, 0.00470943, 0.00471161,\n",
       "        0.00472898, 0.00471161, 0.00470943, 0.00471161, 0.004723  ,\n",
       "        0.00471161, 0.00472415, 0.00471161, 0.00473116, 0.00471161,\n",
       "        0.00472127, 0.00471161, 0.00471377, 0.00471161, 0.00471161,\n",
       "        0.00471161, 0.00472124, 0.00471161, 0.00471274, 0.00471161,\n",
       "        0.00472242, 0.00471161, 0.00472127, 0.00471161, 0.00471359,\n",
       "        0.00471161, 0.0047145 , 0.00471161, 0.00471274, 0.00471161,\n",
       "        0.00471552, 0.00471161, 0.00472242, 0.00471161, 0.00472342,\n",
       "        0.00471161, 0.00471159, 0.00471161, 0.00471274, 0.00471161,\n",
       "        0.00471159, 0.00471161, 0.00471909, 0.00471161]),\n",
       " 'rank_test_score': array([78, 82, 71, 82, 74, 82, 81, 75, 80, 75, 79, 75,  1, 61,  2, 61,  2,\n",
       "        61, 67,  7, 68,  7,  6,  7, 70,  7, 68,  7, 46,  7, 73, 17, 17, 17,\n",
       "        54, 17, 14, 17, 52, 17, 60, 17, 52, 17, 48, 17, 56, 17, 54, 17, 58,\n",
       "        17,  5, 17, 17, 17, 57, 17, 49, 17, 64, 17, 58, 17, 72, 17, 13, 17,\n",
       "        49, 17,  4, 17, 64, 17, 47, 17, 14, 17, 49, 17, 14, 17, 66, 17],\n",
       "       dtype=int32)}"
      ]
     },
     "execution_count": 43,
     "metadata": {},
     "output_type": "execute_result"
    }
   ],
   "source": [
    "lm_grid_fine.cv_results_"
   ]
  },
  {
   "cell_type": "code",
   "execution_count": 13,
   "id": "107f2475-e4aa-438c-8cb4-31e3a0185cbf",
   "metadata": {},
   "outputs": [
    {
     "data": {
      "text/plain": [
       "LogisticRegression(C=0.5, class_weight='balanced', max_iter=800, penalty='l1',\n",
       "                   solver='liblinear')"
      ]
     },
     "execution_count": 13,
     "metadata": {},
     "output_type": "execute_result"
    }
   ],
   "source": [
    "lm_improved = LogisticRegression(C=0.5, class_weight='balanced', max_iter=800, penalty='l1', solver='liblinear')\n",
    "lm_improved.fit(X_train_scaled, y_train)"
   ]
  },
  {
   "cell_type": "code",
   "execution_count": 68,
   "id": "8110bc0b-d5bd-469a-899a-6e0e650cdba8",
   "metadata": {},
   "outputs": [
    {
     "name": "stdout",
     "output_type": "stream",
     "text": [
      "annual_inc: -0.28429359284944233\n",
      "collections_12_mths_ex_med: 0.016295329426037484\n",
      "delinq_2yrs: 0.03479460848488234\n",
      "dti: 0.17367890613959894\n",
      "inq_last_6mths: 0.10867691468542905\n",
      "int_rate: 0.46886262786989374\n",
      "open_acc: 0.07737359337036873\n",
      "pub_rec: -0.008104875414889894\n",
      "revol_util: 0.0654743779654732\n",
      "total_acc: -0.18690098255052162\n",
      "acc_now_delinq: -0.0008832155838323786\n",
      "term_ 60 months: 0.17617524582508298\n",
      "grade_B: 0.08590559318414163\n",
      "grade_C: 0.10583394058998313\n",
      "grade_D: 0.08568542368059454\n",
      "grade_E: 0.043125941901795216\n",
      "grade_F: -0.010096851173994847\n",
      "grade_G: -0.00953304790410287\n",
      "installment: 0.07350462098947733\n"
     ]
    }
   ],
   "source": [
    "for column, coef in zip(X_train.columns, lm_improved.coef_[0]):\n",
    "    print (f'{column}: {coef}')"
   ]
  },
  {
   "cell_type": "code",
   "execution_count": 75,
   "id": "b7e6f186-3d51-4928-9b1c-ed9779083096",
   "metadata": {},
   "outputs": [
    {
     "name": "stdout",
     "output_type": "stream",
     "text": [
      "[0.0008832155838323786, 0.008104875414889894, 0.00953304790410287, 0.010096851173994847, 0.016295329426037484, 0.03479460848488234, 0.043125941901795216, 0.0654743779654732, 0.07350462098947733, 0.07737359337036873, 0.08568542368059454, 0.08590559318414163, 0.10583394058998313, 0.10867691468542905, 0.17367890613959894, 0.17617524582508298, 0.18690098255052162, 0.28429359284944233, 0.46886262786989374]\n"
     ]
    }
   ],
   "source": [
    "print(sorted(abs(lm_improved.coef_[0])))"
   ]
  },
  {
   "cell_type": "code",
   "execution_count": 60,
   "id": "7be1cc0d-da75-4c4e-9f53-868bd0ee7251",
   "metadata": {},
   "outputs": [
    {
     "data": {
      "text/plain": [
       "count    256366.000000\n",
       "mean        417.168267\n",
       "std         244.836516\n",
       "min          15.670000\n",
       "25%         238.500000\n",
       "50%         364.620000\n",
       "75%         546.600000\n",
       "max        1424.570000\n",
       "Name: installment, dtype: float64"
      ]
     },
     "execution_count": 60,
     "metadata": {},
     "output_type": "execute_result"
    }
   ],
   "source": [
    "loans_df['installment'].describe()"
   ]
  },
  {
   "cell_type": "code",
   "execution_count": 15,
   "id": "ceb262be-5df7-49f7-ae97-826d4b497506",
   "metadata": {},
   "outputs": [
    {
     "data": {
      "text/plain": [
       "19"
      ]
     },
     "execution_count": 15,
     "metadata": {},
     "output_type": "execute_result"
    }
   ],
   "source": [
    "len(lm_improved.coef_[0])"
   ]
  },
  {
   "cell_type": "code",
   "execution_count": 141,
   "id": "d2c50d5d-d99c-4caf-88a6-27218ead19e5",
   "metadata": {},
   "outputs": [
    {
     "data": {
      "image/png": "[encoded data removed]",
      "text/plain": [
       "<Figure size 480x320 with 1 Axes>"
      ]
     },
     "metadata": {
      "needs_background": "light"
     },
     "output_type": "display_data"
    }
   ],
   "source": [
    "precision_curve, recall_curve, threshold_curve = precision_recall_curve(y_val, lm_improved.predict_proba(X_val_scaled)[:,1])\n",
    "\n",
    "plt.figure(dpi=80)\n",
    "plt.plot(threshold_curve, precision_curve[1:],label='precision')\n",
    "plt.plot(threshold_curve, recall_curve[1:], label='recall')\n",
    "plt.legend(loc='lower left')\n",
    "plt.xlabel('Threshold (above this probability, label as loan default)');\n",
    "plt.title('Precision and Recall Curves - Logistic Reg Final');"
   ]
  },
  {
   "cell_type": "markdown",
   "id": "fc29cab3-413e-4950-97e0-33d43656a663",
   "metadata": {},
   "source": [
    "# Final Model Instantiation, Training, and Testing"
   ]
  },
  {
   "cell_type": "code",
   "execution_count": 22,
   "id": "05dd21b5-662f-4f8a-ba6c-203987e4066d",
   "metadata": {},
   "outputs": [],
   "source": [
    "X = loans_df[['annual_inc', 'collections_12_mths_ex_med', 'delinq_2yrs', 'dti', 'inq_last_6mths', 'int_rate', 'open_acc',\\\n",
    "               'pub_rec', 'revol_util', 'total_acc', 'acc_now_delinq', 'term_ 60 months', 'grade_B', 'grade_C', 'grade_D', 'grade_E', 'grade_F',\\\n",
    "               'grade_G', 'installment']]\n",
    "y = loans_df['loan_status']"
   ]
  },
  {
   "cell_type": "code",
   "execution_count": 23,
   "id": "a6220d21-5c41-450a-9c50-5bfc2b24f358",
   "metadata": {},
   "outputs": [],
   "source": [
    "X_train_final, X_test_final, y_train_final, y_test_final = train_test_split(X, y, test_size=0.2, random_state=137, stratify=y)"
   ]
  },
  {
   "cell_type": "code",
   "execution_count": 24,
   "id": "d1a76d19-0e3a-4e2b-8822-82faf1e95a73",
   "metadata": {},
   "outputs": [],
   "source": [
    "std_scale = StandardScaler()\n",
    "X_train_scaled_final = std_scale.fit_transform(X_train_final)\n",
    "X_test_scaled_final = std_scale.fit_transform(X_test_final)"
   ]
  },
  {
   "cell_type": "code",
   "execution_count": 25,
   "id": "c59d9ac6-9a8b-4c7d-b7df-973e5894275a",
   "metadata": {},
   "outputs": [
    {
     "data": {
      "text/plain": [
       "LogisticRegression(C=0.5, class_weight='balanced', max_iter=800, penalty='l1',\n",
       "                   solver='liblinear')"
      ]
     },
     "execution_count": 25,
     "metadata": {},
     "output_type": "execute_result"
    }
   ],
   "source": [
    "lm_final = LogisticRegression(C=0.5, class_weight='balanced', max_iter=800, penalty='l1', solver='liblinear')\n",
    "lm_final.fit(X_train_scaled_final, y_train_final)"
   ]
  },
  {
   "cell_type": "code",
   "execution_count": 26,
   "id": "a45991a1-caf6-4a86-8dc4-c87913582187",
   "metadata": {},
   "outputs": [],
   "source": [
    "ftwo_scorer = make_scorer(fbeta_score, beta=2)"
   ]
  },
  {
   "cell_type": "code",
   "execution_count": 31,
   "id": "db89b2cb-d878-4915-b800-9937b8a2d923",
   "metadata": {},
   "outputs": [
    {
     "data": {
      "text/plain": [
       "0.520482414768899"
      ]
     },
     "execution_count": 31,
     "metadata": {},
     "output_type": "execute_result"
    }
   ],
   "source": [
    "fbeta_score(y_test_final, lm_final.predict(X_test_scaled_final), beta=2)"
   ]
  },
  {
   "cell_type": "code",
   "execution_count": 47,
   "id": "b5c03bab-435d-4e82-979c-c61baeb2bb95",
   "metadata": {},
   "outputs": [
    {
     "name": "stdout",
     "output_type": "stream",
     "text": [
      "              precision    recall  f1-score   support\n",
      "\n",
      "         0.0       0.89      0.63      0.74     41853\n",
      "         1.0       0.29      0.66      0.40      9421\n",
      "\n",
      "    accuracy                           0.63     51274\n",
      "   macro avg       0.59      0.64      0.57     51274\n",
      "weighted avg       0.78      0.63      0.68     51274\n",
      "\n"
     ]
    }
   ],
   "source": [
    "print(classification_report(y_test_final, lm_final.predict(X_test_scaled_final)))"
   ]
  },
  {
   "cell_type": "code",
   "execution_count": 33,
   "id": "281dab27-6352-4f6e-844c-9aeb12911439",
   "metadata": {},
   "outputs": [],
   "source": [
    "conf_matrix = confusion_matrix(y_test_final, lm_final.predict(X_test_scaled_final))"
   ]
  },
  {
   "cell_type": "code",
   "execution_count": 35,
   "id": "8b625481-c003-418f-9a18-bfb74f5b3cf4",
   "metadata": {},
   "outputs": [
    {
     "data": {
      "text/plain": [
       "<AxesSubplot:>"
      ]
     },
     "execution_count": 35,
     "metadata": {},
     "output_type": "execute_result"
    },
    {
     "data": {
      "image/png": "[encoded data removed]",
      "text/plain": [
       "<Figure size 432x288 with 2 Axes>"
      ]
     },
     "metadata": {
      "needs_background": "light"
     },
     "output_type": "display_data"
    }
   ],
   "source": [
    "sns.heatmap(conf_matrix, annot=True)"
   ]
  },
  {
   "cell_type": "code",
   "execution_count": 27,
   "id": "ecb60994-914d-40e3-8a64-5f3a47c55044",
   "metadata": {},
   "outputs": [
    {
     "data": {
      "text/plain": [
       "Index(['annual_inc', 'collections_12_mths_ex_med', 'delinq_2yrs', 'dti',\n",
       "       'inq_last_6mths', 'int_rate', 'open_acc', 'pub_rec', 'revol_util',\n",
       "       'total_acc', 'acc_now_delinq', 'term_ 60 months', 'grade_B', 'grade_C',\n",
       "       'grade_D', 'grade_E', 'grade_F', 'grade_G', 'installment'],\n",
       "      dtype='object')"
      ]
     },
     "execution_count": 27,
     "metadata": {},
     "output_type": "execute_result"
    }
   ],
   "source": [
    "X_train_final.columns"
   ]
  },
  {
   "cell_type": "code",
   "execution_count": 28,
   "id": "b42e4372-c7c8-4f52-86c5-060f676dd0da",
   "metadata": {},
   "outputs": [],
   "source": [
    "lm_final.features = X_train_final.columns"
   ]
  },
  {
   "cell_type": "code",
   "execution_count": 29,
   "id": "cf8cef62-1312-4bfa-9088-94a8ab3905e4",
   "metadata": {},
   "outputs": [
    {
     "data": {
      "text/plain": [
       "Index(['annual_inc', 'collections_12_mths_ex_med', 'delinq_2yrs', 'dti',\n",
       "       'inq_last_6mths', 'int_rate', 'open_acc', 'pub_rec', 'revol_util',\n",
       "       'total_acc', 'acc_now_delinq', 'term_ 60 months', 'grade_B', 'grade_C',\n",
       "       'grade_D', 'grade_E', 'grade_F', 'grade_G', 'installment'],\n",
       "      dtype='object')"
      ]
     },
     "execution_count": 29,
     "metadata": {},
     "output_type": "execute_result"
    }
   ],
   "source": [
    "lm_final.features"
   ]
  },
  {
   "cell_type": "code",
   "execution_count": 30,
   "id": "fc2f2f3b-4a76-43b9-bede-fa5165e5de3e",
   "metadata": {},
   "outputs": [],
   "source": [
    "with open(\"lm.pkl\", \"wb\") as f:\n",
    "    pkl.dump(lm_final, f)"
   ]
  },
  {
   "cell_type": "code",
   "execution_count": null,
   "id": "37ebb62a-ee0a-4563-931a-b335cd181cf4",
   "metadata": {},
   "outputs": [],
   "source": []
  }
 ],
 "metadata": {
  "kernelspec": {
   "display_name": "Python 3 (ipykernel)",
   "language": "python",
   "name": "python3"
  },
  "language_info": {
   "codemirror_mode": {
    "name": "ipython",
    "version": 3
   },
   "file_extension": ".py",
   "mimetype": "text/x-python",
   "name": "python",
   "nbconvert_exporter": "python",
   "pygments_lexer": "ipython3",
   "version": "3.9.1"
  }
 },
 "nbformat": 4,
 "nbformat_minor": 5
}
